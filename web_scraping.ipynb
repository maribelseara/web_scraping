{
 "cells": [
  {
   "cell_type": "markdown",
   "metadata": {},
   "source": [
    "# Tasca M10 T01"
   ]
  },
  {
   "cell_type": "code",
   "execution_count": 44,
   "metadata": {},
   "outputs": [],
   "source": [
    "import pandas as pd\n",
    "import requests\n",
    "from bs4 import BeautifulSoup\n",
    "from selenium.webdriver import Firefox\n",
    "from selenium.webdriver.firefox.options import Options\n",
    "from selenium.webdriver.common.by import By\n",
    "import re\n"
   ]
  },
  {
   "cell_type": "markdown",
   "metadata": {},
   "source": [
    "### - Exercici 1\n",
    "Realitza web scraping de dues de les tres pàgines web proposades utilitzant BeautifulSoup primer i Selenium després. \n",
    "\n",
    "- http://quotes.toscrape.com\n",
    "\n",
    "- https://www.bolsamadrid.es\n",
    "\n",
    "- www.wikipedia.es (fes alguna cerca primer i escrapeja algun contingut)"
   ]
  },
  {
   "cell_type": "markdown",
   "metadata": {},
   "source": [
    "Primero vamos a realizar una request de la página y luego vamos a parsear el contenido con el parseador de html usando BeautifulSoup"
   ]
  },
  {
   "cell_type": "code",
   "execution_count": 2,
   "metadata": {},
   "outputs": [],
   "source": [
    "url = \"https://quotes.toscrape.com/\"\n",
    "page = requests.get(url)\n",
    "soup = BeautifulSoup(page.content, \"html.parser\")"
   ]
  },
  {
   "cell_type": "markdown",
   "metadata": {},
   "source": [
    "Con la herramienta de inspección vemos que todas las citas están contenidas en contenedores div que pertenecen a la clase 'quote'. Vamos a seleccionarlas."
   ]
  },
  {
   "cell_type": "code",
   "execution_count": 3,
   "metadata": {},
   "outputs": [],
   "source": [
    "quotes=soup.find_all(\"div\", class_=\"quote\")"
   ]
  },
  {
   "cell_type": "code",
   "execution_count": 4,
   "metadata": {},
   "outputs": [
    {
     "name": "stdout",
     "output_type": "stream",
     "text": [
      "<div class=\"quote\" itemscope=\"\" itemtype=\"http://schema.org/CreativeWork\">\n",
      "<span class=\"text\" itemprop=\"text\">“The world as we have created it is a process of our thinking. It cannot be changed without changing our thinking.”</span>\n",
      "<span>by <small class=\"author\" itemprop=\"author\">Albert Einstein</small>\n",
      "<a href=\"/author/Albert-Einstein\">(about)</a>\n",
      "</span>\n",
      "<div class=\"tags\">\n",
      "            Tags:\n",
      "            <meta class=\"keywords\" content=\"change,deep-thoughts,thinking,world\" itemprop=\"keywords\"/>\n",
      "<a class=\"tag\" href=\"/tag/change/page/1/\">change</a>\n",
      "<a class=\"tag\" href=\"/tag/deep-thoughts/page/1/\">deep-thoughts</a>\n",
      "<a class=\"tag\" href=\"/tag/thinking/page/1/\">thinking</a>\n",
      "<a class=\"tag\" href=\"/tag/world/page/1/\">world</a>\n",
      "</div>\n",
      "</div>\n",
      "\n",
      "<div class=\"quote\" itemscope=\"\" itemtype=\"http://schema.org/CreativeWork\">\n",
      "<span class=\"text\" itemprop=\"text\">“It is our choices, Harry, that show what we truly are, far more than our abilities.”</span>\n",
      "<span>by <small class=\"author\" itemprop=\"author\">J.K. Rowling</small>\n",
      "<a href=\"/author/J-K-Rowling\">(about)</a>\n",
      "</span>\n",
      "<div class=\"tags\">\n",
      "            Tags:\n",
      "            <meta class=\"keywords\" content=\"abilities,choices\" itemprop=\"keywords\"/>\n",
      "<a class=\"tag\" href=\"/tag/abilities/page/1/\">abilities</a>\n",
      "<a class=\"tag\" href=\"/tag/choices/page/1/\">choices</a>\n",
      "</div>\n",
      "</div>\n",
      "\n",
      "<div class=\"quote\" itemscope=\"\" itemtype=\"http://schema.org/CreativeWork\">\n",
      "<span class=\"text\" itemprop=\"text\">“There are only two ways to live your life. One is as though nothing is a miracle. The other is as though everything is a miracle.”</span>\n",
      "<span>by <small class=\"author\" itemprop=\"author\">Albert Einstein</small>\n",
      "<a href=\"/author/Albert-Einstein\">(about)</a>\n",
      "</span>\n",
      "<div class=\"tags\">\n",
      "            Tags:\n",
      "            <meta class=\"keywords\" content=\"inspirational,life,live,miracle,miracles\" itemprop=\"keywords\"/>\n",
      "<a class=\"tag\" href=\"/tag/inspirational/page/1/\">inspirational</a>\n",
      "<a class=\"tag\" href=\"/tag/life/page/1/\">life</a>\n",
      "<a class=\"tag\" href=\"/tag/live/page/1/\">live</a>\n",
      "<a class=\"tag\" href=\"/tag/miracle/page/1/\">miracle</a>\n",
      "<a class=\"tag\" href=\"/tag/miracles/page/1/\">miracles</a>\n",
      "</div>\n",
      "</div>\n",
      "\n",
      "<div class=\"quote\" itemscope=\"\" itemtype=\"http://schema.org/CreativeWork\">\n",
      "<span class=\"text\" itemprop=\"text\">“The person, be it gentleman or lady, who has not pleasure in a good novel, must be intolerably stupid.”</span>\n",
      "<span>by <small class=\"author\" itemprop=\"author\">Jane Austen</small>\n",
      "<a href=\"/author/Jane-Austen\">(about)</a>\n",
      "</span>\n",
      "<div class=\"tags\">\n",
      "            Tags:\n",
      "            <meta class=\"keywords\" content=\"aliteracy,books,classic,humor\" itemprop=\"keywords\"/>\n",
      "<a class=\"tag\" href=\"/tag/aliteracy/page/1/\">aliteracy</a>\n",
      "<a class=\"tag\" href=\"/tag/books/page/1/\">books</a>\n",
      "<a class=\"tag\" href=\"/tag/classic/page/1/\">classic</a>\n",
      "<a class=\"tag\" href=\"/tag/humor/page/1/\">humor</a>\n",
      "</div>\n",
      "</div>\n",
      "\n",
      "<div class=\"quote\" itemscope=\"\" itemtype=\"http://schema.org/CreativeWork\">\n",
      "<span class=\"text\" itemprop=\"text\">“Imperfection is beauty, madness is genius and it's better to be absolutely ridiculous than absolutely boring.”</span>\n",
      "<span>by <small class=\"author\" itemprop=\"author\">Marilyn Monroe</small>\n",
      "<a href=\"/author/Marilyn-Monroe\">(about)</a>\n",
      "</span>\n",
      "<div class=\"tags\">\n",
      "            Tags:\n",
      "            <meta class=\"keywords\" content=\"be-yourself,inspirational\" itemprop=\"keywords\"/>\n",
      "<a class=\"tag\" href=\"/tag/be-yourself/page/1/\">be-yourself</a>\n",
      "<a class=\"tag\" href=\"/tag/inspirational/page/1/\">inspirational</a>\n",
      "</div>\n",
      "</div>\n",
      "\n",
      "<div class=\"quote\" itemscope=\"\" itemtype=\"http://schema.org/CreativeWork\">\n",
      "<span class=\"text\" itemprop=\"text\">“Try not to become a man of success. Rather become a man of value.”</span>\n",
      "<span>by <small class=\"author\" itemprop=\"author\">Albert Einstein</small>\n",
      "<a href=\"/author/Albert-Einstein\">(about)</a>\n",
      "</span>\n",
      "<div class=\"tags\">\n",
      "            Tags:\n",
      "            <meta class=\"keywords\" content=\"adulthood,success,value\" itemprop=\"keywords\"/>\n",
      "<a class=\"tag\" href=\"/tag/adulthood/page/1/\">adulthood</a>\n",
      "<a class=\"tag\" href=\"/tag/success/page/1/\">success</a>\n",
      "<a class=\"tag\" href=\"/tag/value/page/1/\">value</a>\n",
      "</div>\n",
      "</div>\n",
      "\n",
      "<div class=\"quote\" itemscope=\"\" itemtype=\"http://schema.org/CreativeWork\">\n",
      "<span class=\"text\" itemprop=\"text\">“It is better to be hated for what you are than to be loved for what you are not.”</span>\n",
      "<span>by <small class=\"author\" itemprop=\"author\">André Gide</small>\n",
      "<a href=\"/author/Andre-Gide\">(about)</a>\n",
      "</span>\n",
      "<div class=\"tags\">\n",
      "            Tags:\n",
      "            <meta class=\"keywords\" content=\"life,love\" itemprop=\"keywords\"/>\n",
      "<a class=\"tag\" href=\"/tag/life/page/1/\">life</a>\n",
      "<a class=\"tag\" href=\"/tag/love/page/1/\">love</a>\n",
      "</div>\n",
      "</div>\n",
      "\n",
      "<div class=\"quote\" itemscope=\"\" itemtype=\"http://schema.org/CreativeWork\">\n",
      "<span class=\"text\" itemprop=\"text\">“I have not failed. I've just found 10,000 ways that won't work.”</span>\n",
      "<span>by <small class=\"author\" itemprop=\"author\">Thomas A. Edison</small>\n",
      "<a href=\"/author/Thomas-A-Edison\">(about)</a>\n",
      "</span>\n",
      "<div class=\"tags\">\n",
      "            Tags:\n",
      "            <meta class=\"keywords\" content=\"edison,failure,inspirational,paraphrased\" itemprop=\"keywords\"/>\n",
      "<a class=\"tag\" href=\"/tag/edison/page/1/\">edison</a>\n",
      "<a class=\"tag\" href=\"/tag/failure/page/1/\">failure</a>\n",
      "<a class=\"tag\" href=\"/tag/inspirational/page/1/\">inspirational</a>\n",
      "<a class=\"tag\" href=\"/tag/paraphrased/page/1/\">paraphrased</a>\n",
      "</div>\n",
      "</div>\n",
      "\n",
      "<div class=\"quote\" itemscope=\"\" itemtype=\"http://schema.org/CreativeWork\">\n",
      "<span class=\"text\" itemprop=\"text\">“A woman is like a tea bag; you never know how strong it is until it's in hot water.”</span>\n",
      "<span>by <small class=\"author\" itemprop=\"author\">Eleanor Roosevelt</small>\n",
      "<a href=\"/author/Eleanor-Roosevelt\">(about)</a>\n",
      "</span>\n",
      "<div class=\"tags\">\n",
      "            Tags:\n",
      "            <meta class=\"keywords\" content=\"misattributed-eleanor-roosevelt\" itemprop=\"keywords\"/>\n",
      "<a class=\"tag\" href=\"/tag/misattributed-eleanor-roosevelt/page/1/\">misattributed-eleanor-roosevelt</a>\n",
      "</div>\n",
      "</div>\n",
      "\n",
      "<div class=\"quote\" itemscope=\"\" itemtype=\"http://schema.org/CreativeWork\">\n",
      "<span class=\"text\" itemprop=\"text\">“A day without sunshine is like, you know, night.”</span>\n",
      "<span>by <small class=\"author\" itemprop=\"author\">Steve Martin</small>\n",
      "<a href=\"/author/Steve-Martin\">(about)</a>\n",
      "</span>\n",
      "<div class=\"tags\">\n",
      "            Tags:\n",
      "            <meta class=\"keywords\" content=\"humor,obvious,simile\" itemprop=\"keywords\"/>\n",
      "<a class=\"tag\" href=\"/tag/humor/page/1/\">humor</a>\n",
      "<a class=\"tag\" href=\"/tag/obvious/page/1/\">obvious</a>\n",
      "<a class=\"tag\" href=\"/tag/simile/page/1/\">simile</a>\n",
      "</div>\n",
      "</div>\n",
      "\n"
     ]
    }
   ],
   "source": [
    "for quote in quotes:\n",
    "    print(quote, end=\"\\n\"*2)"
   ]
  },
  {
   "cell_type": "markdown",
   "metadata": {},
   "source": [
    "Ya tenemos las citas recogidas en la variable quotes, pero con mucho html y la información mezclada. Vamos a sacar ahora la información que necesitamos: el texto de la cita, el autor y los tags."
   ]
  },
  {
   "cell_type": "code",
   "execution_count": 12,
   "metadata": {},
   "outputs": [
    {
     "name": "stdout",
     "output_type": "stream",
     "text": [
      "“The world as we have created it is a process of our thinking. It cannot be changed without changing our thinking.” Albert Einstein ['change', 'deep-thoughts', 'thinking', 'world']\n",
      "“It is our choices, Harry, that show what we truly are, far more than our abilities.” J.K. Rowling ['abilities', 'choices']\n",
      "“There are only two ways to live your life. One is as though nothing is a miracle. The other is as though everything is a miracle.” Albert Einstein ['inspirational', 'life', 'live', 'miracle', 'miracles']\n",
      "“The person, be it gentleman or lady, who has not pleasure in a good novel, must be intolerably stupid.” Jane Austen ['aliteracy', 'books', 'classic', 'humor']\n",
      "“Imperfection is beauty, madness is genius and it's better to be absolutely ridiculous than absolutely boring.” Marilyn Monroe ['be-yourself', 'inspirational']\n",
      "“Try not to become a man of success. Rather become a man of value.” Albert Einstein ['adulthood', 'success', 'value']\n",
      "“It is better to be hated for what you are than to be loved for what you are not.” André Gide ['life', 'love']\n",
      "“I have not failed. I've just found 10,000 ways that won't work.” Thomas A. Edison ['edison', 'failure', 'inspirational', 'paraphrased']\n",
      "“A woman is like a tea bag; you never know how strong it is until it's in hot water.” Eleanor Roosevelt ['misattributed-eleanor-roosevelt']\n",
      "“A day without sunshine is like, you know, night.” Steve Martin ['humor', 'obvious', 'simile']\n"
     ]
    }
   ],
   "source": [
    "for quote in quotes:\n",
    "    text=quote.find(\"span\", class_=\"text\").text\n",
    "    author=quote.find(\"small\", class_=\"author\").text\n",
    "    tag_html=quote.find_all(\"a\", class_=\"tag\")\n",
    "    tag_list=[]\n",
    "    for tag in tag_html:\n",
    "        tag_list.append(tag.text)\n",
    "    print(text, author, tag_list)"
   ]
  },
  {
   "cell_type": "markdown",
   "metadata": {},
   "source": [
    "Crearemos un dataframe y guardaremos los datos en él"
   ]
  },
  {
   "cell_type": "code",
   "execution_count": 14,
   "metadata": {},
   "outputs": [],
   "source": [
    "df = pd.DataFrame(columns=['text', 'author', 'tags'])"
   ]
  },
  {
   "cell_type": "code",
   "execution_count": 16,
   "metadata": {},
   "outputs": [],
   "source": [
    "for quote in quotes:\n",
    "    text=quote.find(\"span\", class_=\"text\").text\n",
    "    author=quote.find(\"small\", class_=\"author\").text\n",
    "    tag_html=quote.find_all(\"a\", class_=\"tag\")\n",
    "    tag_list=[]\n",
    "    for tag in tag_html:\n",
    "        tag_list.append(tag.text)\n",
    "    df = pd.concat([df, pd.DataFrame([{'text': text, 'author':author, 'tags': tag_list}])], ignore_index=True)"
   ]
  },
  {
   "cell_type": "code",
   "execution_count": 17,
   "metadata": {},
   "outputs": [
    {
     "data": {
      "text/html": [
       "<div>\n",
       "<style scoped>\n",
       "    .dataframe tbody tr th:only-of-type {\n",
       "        vertical-align: middle;\n",
       "    }\n",
       "\n",
       "    .dataframe tbody tr th {\n",
       "        vertical-align: top;\n",
       "    }\n",
       "\n",
       "    .dataframe thead th {\n",
       "        text-align: right;\n",
       "    }\n",
       "</style>\n",
       "<table border=\"1\" class=\"dataframe\">\n",
       "  <thead>\n",
       "    <tr style=\"text-align: right;\">\n",
       "      <th></th>\n",
       "      <th>text</th>\n",
       "      <th>author</th>\n",
       "      <th>tags</th>\n",
       "    </tr>\n",
       "  </thead>\n",
       "  <tbody>\n",
       "    <tr>\n",
       "      <th>0</th>\n",
       "      <td>“The world as we have created it is a process ...</td>\n",
       "      <td>Albert Einstein</td>\n",
       "      <td>[change, deep-thoughts, thinking, world]</td>\n",
       "    </tr>\n",
       "    <tr>\n",
       "      <th>1</th>\n",
       "      <td>“It is our choices, Harry, that show what we t...</td>\n",
       "      <td>J.K. Rowling</td>\n",
       "      <td>[abilities, choices]</td>\n",
       "    </tr>\n",
       "    <tr>\n",
       "      <th>2</th>\n",
       "      <td>“There are only two ways to live your life. On...</td>\n",
       "      <td>Albert Einstein</td>\n",
       "      <td>[inspirational, life, live, miracle, miracles]</td>\n",
       "    </tr>\n",
       "    <tr>\n",
       "      <th>3</th>\n",
       "      <td>“The person, be it gentleman or lady, who has ...</td>\n",
       "      <td>Jane Austen</td>\n",
       "      <td>[aliteracy, books, classic, humor]</td>\n",
       "    </tr>\n",
       "    <tr>\n",
       "      <th>4</th>\n",
       "      <td>“Imperfection is beauty, madness is genius and...</td>\n",
       "      <td>Marilyn Monroe</td>\n",
       "      <td>[be-yourself, inspirational]</td>\n",
       "    </tr>\n",
       "  </tbody>\n",
       "</table>\n",
       "</div>"
      ],
      "text/plain": [
       "                                                text           author  \\\n",
       "0  “The world as we have created it is a process ...  Albert Einstein   \n",
       "1  “It is our choices, Harry, that show what we t...     J.K. Rowling   \n",
       "2  “There are only two ways to live your life. On...  Albert Einstein   \n",
       "3  “The person, be it gentleman or lady, who has ...      Jane Austen   \n",
       "4  “Imperfection is beauty, madness is genius and...   Marilyn Monroe   \n",
       "\n",
       "                                             tags  \n",
       "0        [change, deep-thoughts, thinking, world]  \n",
       "1                            [abilities, choices]  \n",
       "2  [inspirational, life, live, miracle, miracles]  \n",
       "3              [aliteracy, books, classic, humor]  \n",
       "4                    [be-yourself, inspirational]  "
      ]
     },
     "execution_count": 17,
     "metadata": {},
     "output_type": "execute_result"
    }
   ],
   "source": [
    "df.head()"
   ]
  },
  {
   "cell_type": "markdown",
   "metadata": {},
   "source": [
    "Como la web tiene 10 páginas y queremos almacenarlas todas, crearemos el mismo proceso que hemos hecho pero dentro de un bucle"
   ]
  },
  {
   "cell_type": "code",
   "execution_count": 20,
   "metadata": {},
   "outputs": [],
   "source": [
    "df = pd.DataFrame(columns=['text', 'author', 'tags'])"
   ]
  },
  {
   "cell_type": "code",
   "execution_count": 21,
   "metadata": {},
   "outputs": [],
   "source": [
    "for i in range(1,11):\n",
    "    url=\"https://quotes.toscrape.com/page/\" + str(i) + \"/\"\n",
    "    page = requests.get(url)\n",
    "    soup = BeautifulSoup(page.content, \"html.parser\")\n",
    "    quotes=soup.find_all(\"div\", class_=\"quote\")\n",
    "    for quote in quotes:\n",
    "        text=quote.find(\"span\", class_=\"text\").text\n",
    "        author=quote.find(\"small\", class_=\"author\").text\n",
    "        tag_html=quote.find_all(\"a\", class_=\"tag\")\n",
    "        tag_list=[]\n",
    "        for tag in tag_html:\n",
    "            tag_list.append(tag.text)\n",
    "        df = pd.concat([df, pd.DataFrame([{'text': text, 'author':author, 'tags': tag_list}])], ignore_index=True)\n",
    "    "
   ]
  },
  {
   "cell_type": "code",
   "execution_count": 22,
   "metadata": {},
   "outputs": [
    {
     "data": {
      "text/plain": [
       "text      100\n",
       "author    100\n",
       "tags      100\n",
       "dtype: int64"
      ]
     },
     "execution_count": 22,
     "metadata": {},
     "output_type": "execute_result"
    }
   ],
   "source": [
    "df.count()"
   ]
  },
  {
   "cell_type": "markdown",
   "metadata": {},
   "source": [
    "La web tiene 10 citas por página, así que podemos ver que ha guardado el contenido de toda la web en el dataframe. A continuación vamos a almacenar nuestro dataframe en un csv, para poderlo usar en otro momento."
   ]
  },
  {
   "cell_type": "code",
   "execution_count": 23,
   "metadata": {},
   "outputs": [],
   "source": [
    "df.to_csv(\"bs_quotes.csv\")"
   ]
  },
  {
   "cell_type": "markdown",
   "metadata": {},
   "source": [
    "Ahora repetiremos el proceso pero con Selenium."
   ]
  },
  {
   "cell_type": "code",
   "execution_count": 2,
   "metadata": {},
   "outputs": [],
   "source": [
    "url=\"https://quotes.toscrape.com/\""
   ]
  },
  {
   "cell_type": "code",
   "execution_count": 3,
   "metadata": {},
   "outputs": [],
   "source": [
    "opts = Options()\n",
    "opts.add_argument('-headless=new')\n",
    "browser = Firefox(options=opts)\n",
    "browser.get(url)"
   ]
  },
  {
   "cell_type": "code",
   "execution_count": 6,
   "metadata": {},
   "outputs": [],
   "source": [
    "quotes=browser.find_elements(By.CLASS_NAME, 'quote')"
   ]
  },
  {
   "cell_type": "code",
   "execution_count": 22,
   "metadata": {},
   "outputs": [
    {
     "name": "stdout",
     "output_type": "stream",
     "text": [
      "“The world as we have created it is a process of our thinking. It cannot be changed without changing our thinking.” Albert Einstein ['Tags: change deep-thoughts thinking world']\n",
      "“It is our choices, Harry, that show what we truly are, far more than our abilities.” J.K. Rowling ['Tags: abilities choices']\n",
      "“There are only two ways to live your life. One is as though nothing is a miracle. The other is as though everything is a miracle.” Albert Einstein ['Tags: inspirational life live miracle miracles']\n",
      "“The person, be it gentleman or lady, who has not pleasure in a good novel, must be intolerably stupid.” Jane Austen ['Tags: aliteracy books classic humor']\n",
      "“Imperfection is beauty, madness is genius and it's better to be absolutely ridiculous than absolutely boring.” Marilyn Monroe ['Tags: be-yourself inspirational']\n",
      "“Try not to become a man of success. Rather become a man of value.” Albert Einstein ['Tags: adulthood success value']\n",
      "“It is better to be hated for what you are than to be loved for what you are not.” André Gide ['Tags: life love']\n",
      "“I have not failed. I've just found 10,000 ways that won't work.” Thomas A. Edison ['Tags: edison failure inspirational paraphrased']\n",
      "“A woman is like a tea bag; you never know how strong it is until it's in hot water.” Eleanor Roosevelt ['Tags: misattributed-eleanor-roosevelt']\n",
      "“A day without sunshine is like, you know, night.” Steve Martin ['Tags: humor obvious simile']\n"
     ]
    }
   ],
   "source": [
    "for quote in quotes:\n",
    "    text=quote.find_element(By.CLASS_NAME, 'text').text\n",
    "    author=quote.find_element(By.CLASS_NAME, 'author').text\n",
    "    tag_html=quote.find_elements(By.CLASS_NAME, 'tags')\n",
    "    tag_list=[]\n",
    "    for tag in tag_html:\n",
    "        tag_list.append(tag.text)\n",
    "    print(text, author, tag_list)"
   ]
  },
  {
   "cell_type": "markdown",
   "metadata": {},
   "source": [
    "Tal como hemos hecho con Beautiful Soup ahora haremos que visite las 10 páginas que forman la web y meteremos el contenido en un dataframe"
   ]
  },
  {
   "cell_type": "code",
   "execution_count": 23,
   "metadata": {},
   "outputs": [],
   "source": [
    "df = pd.DataFrame(columns=['text', 'author', 'tags'])"
   ]
  },
  {
   "cell_type": "code",
   "execution_count": 24,
   "metadata": {},
   "outputs": [],
   "source": [
    "for i in range(1,11):\n",
    "    url=\"https://quotes.toscrape.com/page/\" + str(i) + \"/\"\n",
    "    browser.get(url)\n",
    "    quotes=browser.find_elements(By.CLASS_NAME, 'quote')\n",
    "    for quote in quotes:\n",
    "        text=quote.find_element(By.CLASS_NAME, 'text').text\n",
    "        author=quote.find_element(By.CLASS_NAME, 'author').text\n",
    "        tag_html=quote.find_elements(By.CLASS_NAME, 'tags')\n",
    "        tag_list=[]\n",
    "        for tag in tag_html:\n",
    "            tag_list.append(tag.text)\n",
    "        df = pd.concat([df, pd.DataFrame([{'text': text, 'author':author, 'tags': tag_list}])], ignore_index=True)\n",
    "    "
   ]
  },
  {
   "cell_type": "code",
   "execution_count": 25,
   "metadata": {},
   "outputs": [
    {
     "data": {
      "text/html": [
       "<div>\n",
       "<style scoped>\n",
       "    .dataframe tbody tr th:only-of-type {\n",
       "        vertical-align: middle;\n",
       "    }\n",
       "\n",
       "    .dataframe tbody tr th {\n",
       "        vertical-align: top;\n",
       "    }\n",
       "\n",
       "    .dataframe thead th {\n",
       "        text-align: right;\n",
       "    }\n",
       "</style>\n",
       "<table border=\"1\" class=\"dataframe\">\n",
       "  <thead>\n",
       "    <tr style=\"text-align: right;\">\n",
       "      <th></th>\n",
       "      <th>text</th>\n",
       "      <th>author</th>\n",
       "      <th>tags</th>\n",
       "    </tr>\n",
       "  </thead>\n",
       "  <tbody>\n",
       "    <tr>\n",
       "      <th>0</th>\n",
       "      <td>“The world as we have created it is a process ...</td>\n",
       "      <td>Albert Einstein</td>\n",
       "      <td>[Tags: change deep-thoughts thinking world]</td>\n",
       "    </tr>\n",
       "    <tr>\n",
       "      <th>1</th>\n",
       "      <td>“It is our choices, Harry, that show what we t...</td>\n",
       "      <td>J.K. Rowling</td>\n",
       "      <td>[Tags: abilities choices]</td>\n",
       "    </tr>\n",
       "    <tr>\n",
       "      <th>2</th>\n",
       "      <td>“There are only two ways to live your life. On...</td>\n",
       "      <td>Albert Einstein</td>\n",
       "      <td>[Tags: inspirational life live miracle miracles]</td>\n",
       "    </tr>\n",
       "    <tr>\n",
       "      <th>3</th>\n",
       "      <td>“The person, be it gentleman or lady, who has ...</td>\n",
       "      <td>Jane Austen</td>\n",
       "      <td>[Tags: aliteracy books classic humor]</td>\n",
       "    </tr>\n",
       "    <tr>\n",
       "      <th>4</th>\n",
       "      <td>“Imperfection is beauty, madness is genius and...</td>\n",
       "      <td>Marilyn Monroe</td>\n",
       "      <td>[Tags: be-yourself inspirational]</td>\n",
       "    </tr>\n",
       "  </tbody>\n",
       "</table>\n",
       "</div>"
      ],
      "text/plain": [
       "                                                text           author  \\\n",
       "0  “The world as we have created it is a process ...  Albert Einstein   \n",
       "1  “It is our choices, Harry, that show what we t...     J.K. Rowling   \n",
       "2  “There are only two ways to live your life. On...  Albert Einstein   \n",
       "3  “The person, be it gentleman or lady, who has ...      Jane Austen   \n",
       "4  “Imperfection is beauty, madness is genius and...   Marilyn Monroe   \n",
       "\n",
       "                                               tags  \n",
       "0       [Tags: change deep-thoughts thinking world]  \n",
       "1                         [Tags: abilities choices]  \n",
       "2  [Tags: inspirational life live miracle miracles]  \n",
       "3             [Tags: aliteracy books classic humor]  \n",
       "4                 [Tags: be-yourself inspirational]  "
      ]
     },
     "execution_count": 25,
     "metadata": {},
     "output_type": "execute_result"
    }
   ],
   "source": [
    "df.head()"
   ]
  },
  {
   "cell_type": "markdown",
   "metadata": {},
   "source": [
    "Y guardaremos los datos generados en un csv"
   ]
  },
  {
   "cell_type": "code",
   "execution_count": 26,
   "metadata": {},
   "outputs": [],
   "source": [
    "df.to_csv(\"sel_quotes.csv\")"
   ]
  },
  {
   "cell_type": "markdown",
   "metadata": {},
   "source": [
    "A continuación realizaremos un scrapeo de Wikipedia, en concreto de este enlace sobre el actor escocés David Tennant https://es.wikipedia.org/wiki/David_Tennant. Queremos guardar los datos de que premios y nominaciones ha recibido a lo largo de su carrera.\n",
    "\n",
    "Empezaremos haciendo el proceso con Beautiful Soup"
   ]
  },
  {
   "cell_type": "code",
   "execution_count": 126,
   "metadata": {},
   "outputs": [],
   "source": [
    "url=\"https://es.wikipedia.org/wiki/David_Tennant\""
   ]
  },
  {
   "cell_type": "code",
   "execution_count": 127,
   "metadata": {},
   "outputs": [],
   "source": [
    "page = requests.get(url)\n",
    "soup = BeautifulSoup(page.content, \"html.parser\")"
   ]
  },
  {
   "cell_type": "markdown",
   "metadata": {},
   "source": [
    "Seleccionamos la tablas del artículo"
   ]
  },
  {
   "cell_type": "code",
   "execution_count": 128,
   "metadata": {},
   "outputs": [],
   "source": [
    "tables=soup.find_all(\"table\", class_=\"wikitable\")"
   ]
  },
  {
   "cell_type": "markdown",
   "metadata": {},
   "source": [
    "La tabla que buscamos es la quinta del artículo (indice 4)"
   ]
  },
  {
   "cell_type": "code",
   "execution_count": 129,
   "metadata": {},
   "outputs": [],
   "source": [
    "awards_table=tables[4]"
   ]
  },
  {
   "cell_type": "code",
   "execution_count": 130,
   "metadata": {},
   "outputs": [
    {
     "name": "stdout",
     "output_type": "stream",
     "text": [
      "<table class=\"wikitable sortable\">\n",
      "<tbody><tr>\n",
      "<th>Año\n",
      "</th>\n",
      "<th>Trabajo\n",
      "</th>\n",
      "<th>Premio\n",
      "</th>\n",
      "<th>Categoría\n",
      "</th>\n",
      "<th>Resultado\n",
      "</th></tr>\n",
      "<tr>\n",
      "<td>1995</td>\n",
      "<td><i>An Experienced Woman Gives Advice</i></td>\n",
      "<td>Premio de Teatro Manchester Evening News<sup class=\"reference separada\" id=\"cite_ref-48\"><a href=\"#cite_note-48\"><span class=\"corchete-llamada\">[</span>48<span class=\"corchete-llamada\">]</span></a></sup>​</td>\n",
      "<td>Mejor Actor</td>\n",
      "<td rowspan=\"\" style=\"background-color:#fdd;color:black; text-align:center; vertical-align:middle;\">Nominado\n",
      "</td></tr>\n",
      "<tr>\n",
      "<td>1996</td>\n",
      "<td><i><a href=\"/wiki/El_zoo_de_cristal\" title=\"El zoo de cristal\">The Glass Menagerie</a></i></td>\n",
      "<td>Theatre Management Association<sup class=\"reference separada\" id=\"cite_ref-49\"><a href=\"#cite_note-49\"><span class=\"corchete-llamada\">[</span>49<span class=\"corchete-llamada\">]</span></a></sup>​</td>\n",
      "<td>Mejor Actor</td>\n",
      "<td rowspan=\"\" style=\"background-color:#fdd;color:black; text-align:center; vertical-align:middle;\">Nominado\n",
      "</td></tr>\n",
      "<tr>\n",
      "<td>2000</td>\n",
      "<td><i><a class=\"mw-redirect\" href=\"/wiki/The_Comedy_of_Errors\" title=\"The Comedy of Errors\">The Comedy of Errors</a></i></td>\n",
      "<td><a class=\"new\" href=\"/w/index.php?title=Premio_Ian_Charleson&amp;action=edit&amp;redlink=1\" title=\"Premio Ian Charleson (aún no redactado)\">Premio Ian Charleson</a><sup class=\"reference separada\" id=\"cite_ref-50\"><a href=\"#cite_note-50\"><span class=\"corchete-llamada\">[</span>50<span class=\"corchete-llamada\">]</span></a></sup>​</td>\n",
      "<td>Best Classical Actor Under 30</td>\n",
      "<td rowspan=\"\" style=\"background-color:#fdd;color:black; text-align:center; vertical-align:middle;\">Nominado\n",
      "</td></tr>\n",
      "<tr>\n",
      "<td>2003</td>\n",
      "<td><i><a class=\"new\" href=\"/w/index.php?title=Lobby_Hero&amp;action=edit&amp;redlink=1\" title=\"Lobby Hero (aún no redactado)\">Lobby Hero</a></i></td>\n",
      "<td><a class=\"mw-redirect\" href=\"/wiki/Premio_Olivier\" title=\"Premio Olivier\">Premio Olivier</a><sup class=\"reference separada\" id=\"cite_ref-51\"><a href=\"#cite_note-51\"><span class=\"corchete-llamada\">[</span>51<span class=\"corchete-llamada\">]</span></a></sup>​</td>\n",
      "<td>Mejor Actor</td>\n",
      "<td rowspan=\"\" style=\"background-color:#fdd;color:black; text-align:center; vertical-align:middle;\">Nominado\n",
      "</td></tr>\n",
      "<tr>\n",
      "<td>2005</td>\n",
      "<td><i><a href=\"/wiki/Look_Back_in_Anger\" title=\"Look Back in Anger\">Look Back in Anger</a></i></td>\n",
      "<td><a class=\"new\" href=\"/w/index.php?title=Critics%27_Awards_for_Theatre_in_Scotland&amp;action=edit&amp;redlink=1\" title=\"Critics' Awards for Theatre in Scotland (aún no redactado)\">Critics' Awards for Theatre in Scotland</a><sup class=\"reference separada\" id=\"cite_ref-52\"><a href=\"#cite_note-52\"><span class=\"corchete-llamada\">[</span>52<span class=\"corchete-llamada\">]</span></a></sup>​</td>\n",
      "<td>Best Male Performance</td>\n",
      "<td rowspan=\"\" style=\"background-color:#99FF99;color:black; text-align:center; vertical-align:middle;\">Ganador\n",
      "</td></tr>\n",
      "<tr>\n",
      "<td>2006</td>\n",
      "<td><i><a class=\"new\" href=\"/w/index.php?title=Casanova_(2005_TV_serial)&amp;action=edit&amp;redlink=1\" title=\"Casanova (2005 TV serial) (aún no redactado)\">Casanova</a></i>, <i><a href=\"/wiki/Secret_Smile\" title=\"Secret Smile\">Secret Smile</a></i>, y <i><a href=\"/wiki/Doctor_Who\" title=\"Doctor Who\">Doctor Who</a></i></td>\n",
      "<td><a class=\"new\" href=\"/w/index.php?title=Broadcasting_Press_Guild&amp;action=edit&amp;redlink=1\" title=\"Broadcasting Press Guild (aún no redactado)\">Broadcasting Press Guild</a><sup class=\"reference separada\" id=\"cite_ref-53\"><a href=\"#cite_note-53\"><span class=\"corchete-llamada\">[</span>53<span class=\"corchete-llamada\">]</span></a></sup>​</td>\n",
      "<td>Best Actor</td>\n",
      "<td rowspan=\"\" style=\"background-color:#fdd;color:black; text-align:center; vertical-align:middle;\">Nominado\n",
      "</td></tr>\n",
      "<tr>\n",
      "<td>2006</td>\n",
      "<td><i><a href=\"/wiki/Doctor_Who\" title=\"Doctor Who\">Doctor Who</a></i></td>\n",
      "<td><a class=\"new\" href=\"/w/index.php?title=TV_Quick&amp;action=edit&amp;redlink=1\" title=\"TV Quick (aún no redactado)\">TV Quick</a> and TV Choice Award<sup class=\"reference separada\" id=\"cite_ref-54\"><a href=\"#cite_note-54\"><span class=\"corchete-llamada\">[</span>54<span class=\"corchete-llamada\">]</span></a></sup>​</td>\n",
      "<td>Best Actor</td>\n",
      "<td rowspan=\"\" style=\"background-color:#99FF99;color:black; text-align:center; vertical-align:middle;\">Ganador\n",
      "</td></tr>\n",
      "<tr>\n",
      "<td>2006</td>\n",
      "<td><i><a href=\"/wiki/Doctor_Who\" title=\"Doctor Who\">Doctor Who</a></i></td>\n",
      "<td><a class=\"new\" href=\"/w/index.php?title=National_Television_Award&amp;action=edit&amp;redlink=1\" title=\"National Television Award (aún no redactado)\">National Television Award</a><sup class=\"reference separada\" id=\"cite_ref-55\"><a href=\"#cite_note-55\"><span class=\"corchete-llamada\">[</span>55<span class=\"corchete-llamada\">]</span></a></sup>​</td>\n",
      "<td>Best Actor</td>\n",
      "<td rowspan=\"\" style=\"background-color:#99FF99;color:black; text-align:center; vertical-align:middle;\">Ganador\n",
      "</td></tr>\n",
      "<tr>\n",
      "<td>2007</td>\n",
      "<td><i><a href=\"/wiki/Doctor_Who\" title=\"Doctor Who\">Doctor Who</a></i></td>\n",
      "<td><a class=\"new\" href=\"/w/index.php?title=BAFTA_Cymru&amp;action=edit&amp;redlink=1\" title=\"BAFTA Cymru (aún no redactado)\">BAFTA Cymru</a><sup class=\"reference separada\" id=\"cite_ref-56\"><a href=\"#cite_note-56\"><span class=\"corchete-llamada\">[</span>56<span class=\"corchete-llamada\">]</span></a></sup>​</td>\n",
      "<td>Best Actor</td>\n",
      "<td rowspan=\"\" style=\"background-color:#99FF99;color:black; text-align:center; vertical-align:middle;\">Ganador\n",
      "</td></tr>\n",
      "<tr>\n",
      "<td>2007</td>\n",
      "<td><i><a href=\"/wiki/Doctor_Who\" title=\"Doctor Who\">Doctor Who</a></i></td>\n",
      "<td>TV Quick and TV Choice Award<sup class=\"reference separada\" id=\"cite_ref-57\"><a href=\"#cite_note-57\"><span class=\"corchete-llamada\">[</span>57<span class=\"corchete-llamada\">]</span></a></sup>​</td>\n",
      "<td>Best Actor</td>\n",
      "<td rowspan=\"\" style=\"background-color:#99FF99;color:black; text-align:center; vertical-align:middle;\">Ganador\n",
      "</td></tr>\n",
      "<tr>\n",
      "<td>2007</td>\n",
      "<td><i><a href=\"/wiki/Doctor_Who\" title=\"Doctor Who\">Doctor Who</a></i></td>\n",
      "<td><a class=\"new\" href=\"/w/index.php?title=Premios_Constellation&amp;action=edit&amp;redlink=1\" title=\"Premios Constellation (aún no redactado)\">Premios Constellation</a><sup class=\"reference separada\" id=\"cite_ref-58\"><a href=\"#cite_note-58\"><span class=\"corchete-llamada\">[</span>58<span class=\"corchete-llamada\">]</span></a></sup>​</td>\n",
      "<td>Best Male Performance in a 2006 Science Fiction Television Episode</td>\n",
      "<td rowspan=\"\" style=\"background-color:#99FF99;color:black; text-align:center; vertical-align:middle;\">Ganador\n",
      "</td></tr>\n",
      "<tr>\n",
      "<td>2007</td>\n",
      "<td><i><a href=\"/wiki/Doctor_Who\" title=\"Doctor Who\">Doctor Who</a></i></td>\n",
      "<td><a class=\"new\" href=\"/w/index.php?title=National_Television_Award&amp;action=edit&amp;redlink=1\" title=\"National Television Award (aún no redactado)\">National Television Award</a><sup class=\"reference separada\" id=\"cite_ref-59\"><a href=\"#cite_note-59\"><span class=\"corchete-llamada\">[</span>59<span class=\"corchete-llamada\">]</span></a></sup>​</td>\n",
      "<td>Most Popular Actor</td>\n",
      "<td rowspan=\"\" style=\"background-color:#99FF99;color:black; text-align:center; vertical-align:middle;\">Ganador\n",
      "</td></tr>\n",
      "<tr>\n",
      "<td>2007</td>\n",
      "<td>-</td>\n",
      "<td><a class=\"new\" href=\"/w/index.php?title=Glenfiddich_Spirit_of_Scotland_Awards&amp;action=edit&amp;redlink=1\" title=\"Glenfiddich Spirit of Scotland Awards (aún no redactado)\">Glenfiddich Spirit of Scotland Award</a><sup class=\"reference separada\" id=\"cite_ref-60\"><a href=\"#cite_note-60\"><span class=\"corchete-llamada\">[</span>60<span class=\"corchete-llamada\">]</span></a></sup>​</td>\n",
      "<td>Screen Award</td>\n",
      "<td rowspan=\"\" style=\"background-color:#99FF99;color:black; text-align:center; vertical-align:middle;\">Ganador\n",
      "</td></tr>\n",
      "<tr>\n",
      "<td>2008</td>\n",
      "<td><i><a href=\"/wiki/Doctor_Who\" title=\"Doctor Who\">Doctor Who</a></i></td>\n",
      "<td>Premios Constellation<sup class=\"reference separada\" id=\"cite_ref-61\"><a href=\"#cite_note-61\"><span class=\"corchete-llamada\">[</span>61<span class=\"corchete-llamada\">]</span></a></sup>​</td>\n",
      "<td>Best Male Performance in a 2007 Science Fiction Television Episode</td>\n",
      "<td rowspan=\"\" style=\"background-color:#99FF99;color:black; text-align:center; vertical-align:middle;\">Ganador\n",
      "</td></tr>\n",
      "<tr>\n",
      "<td>2008</td>\n",
      "<td><i><a href=\"/wiki/Doctor_Who\" title=\"Doctor Who\">Doctor Who</a></i></td>\n",
      "<td>Premio TV Quick and TV Choice<sup class=\"reference separada\" id=\"cite_ref-62\"><a href=\"#cite_note-62\"><span class=\"corchete-llamada\">[</span>62<span class=\"corchete-llamada\">]</span></a></sup>​</td>\n",
      "<td>Best Actor</td>\n",
      "<td rowspan=\"\" style=\"background-color:#99FF99;color:black; text-align:center; vertical-align:middle;\">Ganador\n",
      "</td></tr>\n",
      "<tr>\n",
      "<td>2008</td>\n",
      "<td><i><a href=\"/wiki/Doctor_Who\" title=\"Doctor Who\">Doctor Who</a></i></td>\n",
      "<td><a class=\"new\" href=\"/w/index.php?title=National_Television_Award&amp;action=edit&amp;redlink=1\" title=\"National Television Award (aún no redactado)\">National Television Award</a><sup class=\"reference separada\" id=\"cite_ref-63\"><a href=\"#cite_note-63\"><span class=\"corchete-llamada\">[</span>63<span class=\"corchete-llamada\">]</span></a></sup>​</td>\n",
      "<td>Outstanding Drama Performance</td>\n",
      "<td rowspan=\"\" style=\"background-color:#99FF99;color:black; text-align:center; vertical-align:middle;\">Ganador\n",
      "</td></tr>\n",
      "<tr>\n",
      "<td>2008</td>\n",
      "<td><i><a href=\"/wiki/Doctor_Who\" title=\"Doctor Who\">Doctor Who</a></i></td>\n",
      "<td><a href=\"/wiki/Premios_Satellite\" title=\"Premios Satellite\">Premios Satellite</a><sup class=\"reference separada\" id=\"cite_ref-64\"><a href=\"#cite_note-64\"><span class=\"corchete-llamada\">[</span>64<span class=\"corchete-llamada\">]</span></a></sup>​</td>\n",
      "<td><a class=\"new\" href=\"/w/index.php?title=Satellite_Award_for_Best_Actor_-_Television_Series_Drama&amp;action=edit&amp;redlink=1\" title=\"Satellite Award for Best Actor - Television Series Drama (aún no redactado)\">Best Actor in a Drama Series</a></td>\n",
      "<td rowspan=\"\" style=\"background-color:#fdd;color:black; text-align:center; vertical-align:middle;\">Nominado\n",
      "</td></tr>\n",
      "<tr>\n",
      "<td>2008</td>\n",
      "<td><i><a class=\"new\" href=\"/w/index.php?title=Recovery_(TV_drama)&amp;action=edit&amp;redlink=1\" title=\"Recovery (TV drama) (aún no redactado)\">Recovery</a></i> y <i><a href=\"/wiki/Doctor_Who\" title=\"Doctor Who\">Doctor Who</a></i></td>\n",
      "<td><a href=\"/wiki/Royal_Television_Society\" title=\"Royal Television Society\">Royal Television Society</a> Programme Award<sup class=\"reference separada\" id=\"cite_ref-65\"><a href=\"#cite_note-65\"><span class=\"corchete-llamada\">[</span>65<span class=\"corchete-llamada\">]</span></a></sup>​</td>\n",
      "<td>Best Actor</td>\n",
      "<td rowspan=\"\" style=\"background-color:#fdd;color:black; text-align:center; vertical-align:middle;\">Nominado\n",
      "</td></tr>\n",
      "<tr>\n",
      "<td>2009</td>\n",
      "<td><i><a href=\"/wiki/Hamlet\" title=\"Hamlet\">Hamlet</a></i></td>\n",
      "<td><a class=\"new\" href=\"/w/index.php?title=Critics%27_Circle_Theatre_Award&amp;action=edit&amp;redlink=1\" title=\"Critics' Circle Theatre Award (aún no redactado)\">Critics' Circle Theatre Award</a><sup class=\"reference separada\" id=\"cite_ref-66\"><a href=\"#cite_note-66\"><span class=\"corchete-llamada\">[</span>66<span class=\"corchete-llamada\">]</span></a></sup>​</td>\n",
      "<td>Mejor representación de Shakespeare</td>\n",
      "<td rowspan=\"\" style=\"background-color:#99FF99;color:black; text-align:center; vertical-align:middle;\">Ganador\n",
      "</td></tr>\n",
      "<tr>\n",
      "<td>2009</td>\n",
      "<td><i><a href=\"/wiki/Hamlet\" title=\"Hamlet\">Hamlet</a></i></td>\n",
      "<td>Theatregoers' Choice Awards<sup class=\"reference separada\" id=\"cite_ref-67\"><a href=\"#cite_note-67\"><span class=\"corchete-llamada\">[</span>67<span class=\"corchete-llamada\">]</span></a></sup>​<sup class=\"reference separada\" id=\"cite_ref-68\"><a href=\"#cite_note-68\"><span class=\"corchete-llamada\">[</span>68<span class=\"corchete-llamada\">]</span></a></sup>​</td>\n",
      "<td>AKA Theatre Event of the Year</td>\n",
      "<td rowspan=\"\" style=\"background-color:#99FF99;color:black; text-align:center; vertical-align:middle;\">Ganador\n",
      "</td></tr>\n",
      "<tr>\n",
      "<td>2009</td>\n",
      "<td><i><a href=\"/wiki/Hamlet\" title=\"Hamlet\">Hamlet</a></i></td>\n",
      "<td><a class=\"new\" href=\"/w/index.php?title=2009_Evening_Standard_Theatre_Awards&amp;action=edit&amp;redlink=1\" title=\"2009 Evening Standard Theatre Awards (aún no redactado)\">Premio Standard Theatre</a><sup class=\"reference separada\" id=\"cite_ref-69\"><a href=\"#cite_note-69\"><span class=\"corchete-llamada\">[</span>69<span class=\"corchete-llamada\">]</span></a></sup>​</td>\n",
      "<td>Best Actor</td>\n",
      "<td rowspan=\"\" style=\"background-color:#fdd;color:black; text-align:center; vertical-align:middle;\">Nominado\n",
      "</td></tr>\n",
      "<tr>\n",
      "<td>2009</td>\n",
      "<td><i><a class=\"new\" href=\"/w/index.php?title=Einstein_and_Eddington&amp;action=edit&amp;redlink=1\" title=\"Einstein and Eddington (aún no redactado)\">Einstein and Eddington</a></i> y <i><a href=\"/wiki/Doctor_Who\" title=\"Doctor Who\">Doctor Who</a></i></td>\n",
      "<td>Broadcasting Press Guild<sup class=\"reference separada\" id=\"cite_ref-70\"><a href=\"#cite_note-70\"><span class=\"corchete-llamada\">[</span>70<span class=\"corchete-llamada\">]</span></a></sup>​</td>\n",
      "<td>Best Actor</td>\n",
      "<td rowspan=\"\" style=\"background-color:#fdd;color:black; text-align:center; vertical-align:middle;\">Nominado\n",
      "</td></tr>\n",
      "<tr>\n",
      "<td>2009</td>\n",
      "<td><i><a href=\"/wiki/Doctor_Who\" title=\"Doctor Who\">Doctor Who</a></i></td>\n",
      "<td><a class=\"new\" href=\"/w/index.php?title=BAFTA_Scotland&amp;action=edit&amp;redlink=1\" title=\"BAFTA Scotland (aún no redactado)\">BAFTA Scotland</a><sup class=\"reference separada\" id=\"cite_ref-71\"><a href=\"#cite_note-71\"><span class=\"corchete-llamada\">[</span>71<span class=\"corchete-llamada\">]</span></a></sup>​<sup class=\"reference separada\" id=\"cite_ref-72\"><a href=\"#cite_note-72\"><span class=\"corchete-llamada\">[</span>72<span class=\"corchete-llamada\">]</span></a></sup>​</td>\n",
      "<td>Acting Performance in TV (Male)</td>\n",
      "<td rowspan=\"\" style=\"background-color:#fdd;color:black; text-align:center; vertical-align:middle;\">Nominado\n",
      "</td></tr>\n",
      "<tr>\n",
      "<td>2009</td>\n",
      "<td><i><a href=\"/wiki/Doctor_Who\" title=\"Doctor Who\">Doctor Who</a></i></td>\n",
      "<td><a class=\"mw-redirect\" href=\"/wiki/Premio_Saturn\" title=\"Premio Saturn\">Premio Saturn</a><sup class=\"reference separada\" id=\"cite_ref-73\"><a href=\"#cite_note-73\"><span class=\"corchete-llamada\">[</span>73<span class=\"corchete-llamada\">]</span></a></sup>​</td>\n",
      "<td><a class=\"new\" href=\"/w/index.php?title=Saturn_Award_for_Best_Actor_on_Television&amp;action=edit&amp;redlink=1\" title=\"Saturn Award for Best Actor on Television (aún no redactado)\">Best Actor on Television</a></td>\n",
      "<td rowspan=\"\" style=\"background-color:#fdd;color:black; text-align:center; vertical-align:middle;\">Nominado\n",
      "</td></tr>\n",
      "<tr>\n",
      "<td>2010</td>\n",
      "<td><i><a href=\"/wiki/Doctor_Who\" title=\"Doctor Who\">Doctor Who</a></i></td>\n",
      "<td>Premio Nacional de Televisión<sup class=\"reference separada\" id=\"cite_ref-74\"><a href=\"#cite_note-74\"><span class=\"corchete-llamada\">[</span>74<span class=\"corchete-llamada\">]</span></a></sup>​</td>\n",
      "<td>Outstanding Drama Performance</td>\n",
      "<td rowspan=\"\" style=\"background-color:#99FF99;color:black; text-align:center; vertical-align:middle;\">Ganador\n",
      "</td></tr>\n",
      "<tr>\n",
      "<td>2010</td>\n",
      "<td><i><a href=\"/wiki/Doctor_Who\" title=\"Doctor Who\">Doctor Who</a></i></td>\n",
      "<td>Premio Constellation<sup class=\"reference separada\" id=\"cite_ref-75\"><a href=\"#cite_note-75\"><span class=\"corchete-llamada\">[</span>75<span class=\"corchete-llamada\">]</span></a></sup>​</td>\n",
      "<td>Best Male Performance in a 2009 Science Fiction Television Episode</td>\n",
      "<td rowspan=\"\" style=\"background-color:#99FF99;color:black; text-align:center; vertical-align:middle;\">Ganador\n",
      "</td></tr>\n",
      "<tr>\n",
      "<td>2010</td>\n",
      "<td><i><a href=\"/wiki/Hamlet\" title=\"Hamlet\">Hamlet</a></i> y <i><a href=\"/wiki/Doctor_Who\" title=\"Doctor Who\">Doctor Who</a></i></td>\n",
      "<td>Broadcasting Press Guild<sup class=\"reference separada\" id=\"cite_ref-76\"><a href=\"#cite_note-76\"><span class=\"corchete-llamada\">[</span>76<span class=\"corchete-llamada\">]</span></a></sup>​</td>\n",
      "<td>Best Actor</td>\n",
      "<td rowspan=\"\" style=\"background-color:#fdd;color:black; text-align:center; vertical-align:middle;\">Nominado\n",
      "</td></tr>\n",
      "<tr>\n",
      "<td>2011</td>\n",
      "<td><i><a class=\"new\" href=\"/w/index.php?title=Single_Father_(serie_de_televisi%C3%B3n)&amp;action=edit&amp;redlink=1\" title=\"Single Father (serie de televisión) (aún no redactado)\">Single Father</a></i></td>\n",
      "<td>Premio TV Choice<sup class=\"reference separada\" id=\"cite_ref-77\"><a href=\"#cite_note-77\"><span class=\"corchete-llamada\">[</span>77<span class=\"corchete-llamada\">]</span></a></sup>​</td>\n",
      "<td>Best Actor</td>\n",
      "<td rowspan=\"\" style=\"background-color:#99FF99;color:black; text-align:center; vertical-align:middle;\">Ganador\n",
      "</td></tr>\n",
      "<tr>\n",
      "<td>2011</td>\n",
      "<td><i><a class=\"new\" href=\"/w/index.php?title=Single_Father_(serie_de_televisi%C3%B3n)&amp;action=edit&amp;redlink=1\" title=\"Single Father (serie de televisión) (aún no redactado)\">Single Father</a></i></td>\n",
      "<td>Royal Television Society Programme Awards<sup class=\"reference separada\" id=\"cite_ref-78\"><a href=\"#cite_note-78\"><span class=\"corchete-llamada\">[</span>78<span class=\"corchete-llamada\">]</span></a></sup>​</td>\n",
      "<td>Best Actor</td>\n",
      "<td rowspan=\"\" style=\"background-color:#fdd;color:black; text-align:center; vertical-align:middle;\">Nominado\n",
      "</td></tr>\n",
      "<tr>\n",
      "<td>2011</td>\n",
      "<td><i><a class=\"mw-redirect\" href=\"/wiki/Much_Ado_About_Nothing\" title=\"Much Ado About Nothing\">Much Ado About Nothing</a></i></td>\n",
      "<td>BroadwayWorld UK Awards<sup class=\"reference separada\" id=\"cite_ref-BWWUK2011_79-0\"><a href=\"#cite_note-BWWUK2011-79\"><span class=\"corchete-llamada\">[</span>79<span class=\"corchete-llamada\">]</span></a></sup>​</td>\n",
      "<td>Best Actor</td>\n",
      "<td rowspan=\"\" style=\"background-color:#99FF99;color:black; text-align:center; vertical-align:middle;\">Ganador\n",
      "</td></tr>\n",
      "<tr>\n",
      "<td>2012</td>\n",
      "<td><i>Kafka: The Musical</i></td>\n",
      "<td><a class=\"new\" href=\"/w/index.php?title=BBC_Audio_Drama_Awards&amp;action=edit&amp;redlink=1\" title=\"BBC Audio Drama Awards (aún no redactado)\">BBC Audio Drama Awards</a><sup class=\"reference separada\" id=\"cite_ref-80\"><a href=\"#cite_note-80\"><span class=\"corchete-llamada\">[</span>80<span class=\"corchete-llamada\">]</span></a></sup>​</td>\n",
      "<td>Best Actor</td>\n",
      "<td rowspan=\"\" style=\"background-color:#99FF99;color:black; text-align:center; vertical-align:middle;\">Ganador\n",
      "</td></tr>\n",
      "<tr>\n",
      "<td>2012</td>\n",
      "<td><i><a class=\"mw-redirect\" href=\"/wiki/Much_Ado_About_Nothing\" title=\"Much Ado About Nothing\">Much Ado About Nothing</a></i></td>\n",
      "<td>What's on Stage Awards<sup class=\"reference separada\" id=\"cite_ref-81\"><a href=\"#cite_note-81\"><span class=\"corchete-llamada\">[</span>81<span class=\"corchete-llamada\">]</span></a></sup>​</td>\n",
      "<td>Best Actor</td>\n",
      "<td rowspan=\"\" style=\"background-color:#fdd;color:black; text-align:center; vertical-align:middle;\">Nominado\n",
      "</td></tr>\n",
      "<tr>\n",
      "<td>2012</td>\n",
      "<td><a href=\"/wiki/Star_Wars:_The_Clone_Wars_(serie_de_televisi%C3%B3n_de_2008)\" title=\"Star Wars: The Clone Wars (serie de televisión de 2008)\">Star Wars: The Clone Wars</a></td>\n",
      "<td><a class=\"new\" href=\"/w/index.php?title=40th_Daytime_Emmy_Awards&amp;action=edit&amp;redlink=1\" title=\"40th Daytime Emmy Awards (aún no redactado)\">40th Daytime Emmy Awards</a><sup class=\"reference separada\" id=\"cite_ref-82\"><a href=\"#cite_note-82\"><span class=\"corchete-llamada\">[</span>82<span class=\"corchete-llamada\">]</span></a></sup>​</td>\n",
      "<td><a class=\"new\" href=\"/w/index.php?title=Daytime_Emmy_Award_for_Outstanding_Performer_In_An_Animated_Program&amp;action=edit&amp;redlink=1\" title=\"Daytime Emmy Award for Outstanding Performer In An Animated Program (aún no redactado)\">Outstanding Performer in an Animated Program</a></td>\n",
      "<td rowspan=\"\" style=\"background-color:#99FF99;color:black; text-align:center; vertical-align:middle;\">Ganador\n",
      "</td></tr>\n",
      "<tr>\n",
      "<td>2013</td>\n",
      "<td><i><a href=\"/wiki/Broadchurch\" title=\"Broadchurch\">Broadchurch</a></i></td>\n",
      "<td>Premio TV Choice<sup class=\"reference separada\" id=\"cite_ref-83\"><a href=\"#cite_note-83\"><span class=\"corchete-llamada\">[</span>83<span class=\"corchete-llamada\">]</span></a></sup>​</td>\n",
      "<td>Best Actor</td>\n",
      "<td rowspan=\"\" style=\"background-color:#99FF99;color:black; text-align:center; vertical-align:middle;\">Ganador\n",
      "</td></tr>\n",
      "<tr>\n",
      "<td>2014</td>\n",
      "<td><i><a href=\"/wiki/Broadchurch\" title=\"Broadchurch\">Broadchurch</a></i></td>\n",
      "<td>Premio Nacional de Televisión<sup class=\"reference separada\" id=\"cite_ref-84\"><a href=\"#cite_note-84\"><span class=\"corchete-llamada\">[</span>84<span class=\"corchete-llamada\">]</span></a></sup>​</td>\n",
      "<td>Best TV Detective</td>\n",
      "<td rowspan=\"\" style=\"background-color:#fdd;color:black; text-align:center; vertical-align:middle;\">Nominado\n",
      "</td></tr>\n",
      "<tr>\n",
      "<td>2014</td>\n",
      "<td><i><a href=\"/wiki/Broadchurch\" title=\"Broadchurch\">Broadchurch</a></i></td>\n",
      "<td><a class=\"new\" href=\"/w/index.php?title=Broadcasting_Press_Guild&amp;action=edit&amp;redlink=1\" title=\"Broadcasting Press Guild (aún no redactado)\">Broadcasting Press Guild Television and Radio Awards</a><sup class=\"reference separada\" id=\"cite_ref-85\"><a href=\"#cite_note-85\"><span class=\"corchete-llamada\">[</span>85<span class=\"corchete-llamada\">]</span></a></sup>​</td>\n",
      "<td>Best Actor</td>\n",
      "<td rowspan=\"\" style=\"background-color:#fdd;color:black; text-align:center; vertical-align:middle;\">Nominado\n",
      "</td></tr>\n",
      "<tr>\n",
      "<td>2014</td>\n",
      "<td><i><a class=\"new\" href=\"/w/index.php?title=The_Escape_Artist_(serie_de_televisi%C3%B3n)&amp;action=edit&amp;redlink=1\" title=\"The Escape Artist (serie de televisión) (aún no redactado)\">The Escape Artist (serie de televisión)</a></i></td>\n",
      "<td><a class=\"new\" href=\"/w/index.php?title=BAFTA_Scotland&amp;action=edit&amp;redlink=1\" title=\"BAFTA Scotland (aún no redactado)\">BAFTA Scotland</a><sup class=\"reference separada\" id=\"cite_ref-86\"><a href=\"#cite_note-86\"><span class=\"corchete-llamada\">[</span>86<span class=\"corchete-llamada\">]</span></a></sup>​</td>\n",
      "<td>Acting Performance in TV (Male)</td>\n",
      "<td rowspan=\"\" style=\"background-color:#99FF99;color:black; text-align:center; vertical-align:middle;\">Ganador\n",
      "</td></tr>\n",
      "<tr>\n",
      "<td>2015</td>\n",
      "<td><i><a href=\"/wiki/Gracepoint\" title=\"Gracepoint\">Gracepoint</a></i></td>\n",
      "<td><a class=\"new\" href=\"/w/index.php?title=41st_People%27s_Choice_Awards&amp;action=edit&amp;redlink=1\" title=\"41st People's Choice Awards (aún no redactado)\">41st People's Choice Awards</a><sup class=\"reference separada\" id=\"cite_ref-87\"><a href=\"#cite_note-87\"><span class=\"corchete-llamada\">[</span>87<span class=\"corchete-llamada\">]</span></a></sup>​</td>\n",
      "<td>Favorite Actor In A New TV Series</td>\n",
      "<td rowspan=\"\" style=\"background-color:#99FF99;color:black; text-align:center; vertical-align:middle;\">Ganador\n",
      "</td></tr>\n",
      "<tr>\n",
      "<td>2015</td>\n",
      "<td><i>-</i></td>\n",
      "<td><a href=\"/wiki/National_Television_Awards\" title=\"National Television Awards\">National Television Awards</a><sup class=\"reference separada\" id=\"cite_ref-88\"><a href=\"#cite_note-88\"><span class=\"corchete-llamada\">[</span>88<span class=\"corchete-llamada\">]</span></a></sup>​</td>\n",
      "<td>Special Recognition Award</td>\n",
      "<td rowspan=\"\" style=\"background-color:#99FF99;color:black; text-align:center; vertical-align:middle;\">Ganador\n",
      "</td></tr></tbody></table>\n"
     ]
    }
   ],
   "source": [
    "print(awards_table)"
   ]
  },
  {
   "cell_type": "markdown",
   "metadata": {},
   "source": [
    "Ya hemos accedido a la tabla que queremos que tiene todo el html y sus respectivos hijos de donde podremos sacar la información"
   ]
  },
  {
   "cell_type": "code",
   "execution_count": 131,
   "metadata": {},
   "outputs": [
    {
     "name": "stdout",
     "output_type": "stream",
     "text": [
      "['Año\\n', 'Trabajo\\n', 'Premio\\n', 'Categoría\\n', 'Resultado\\n']\n"
     ]
    }
   ],
   "source": [
    "headers=awards_table.findAll(\"th\")\n",
    "columns=[]\n",
    "for header in headers:\n",
    "    columns.append(header.text)\n",
    "print(columns)"
   ]
  },
  {
   "cell_type": "markdown",
   "metadata": {},
   "source": [
    "Quitamos el salto de línea al final del nombre de las columnas"
   ]
  },
  {
   "cell_type": "code",
   "execution_count": 132,
   "metadata": {},
   "outputs": [
    {
     "name": "stdout",
     "output_type": "stream",
     "text": [
      "['Año', 'Trabajo', 'Premio', 'Categoría', 'Resultado']\n"
     ]
    }
   ],
   "source": [
    "for i,column in enumerate(columns):\n",
    "    columns[i]=column[:-1]\n",
    "print(columns)"
   ]
  },
  {
   "cell_type": "markdown",
   "metadata": {},
   "source": [
    "Creamos el dataframe con las columnas"
   ]
  },
  {
   "cell_type": "code",
   "execution_count": 133,
   "metadata": {},
   "outputs": [],
   "source": [
    "df=pd.DataFrame(columns=columns)"
   ]
  },
  {
   "cell_type": "markdown",
   "metadata": {},
   "source": [
    "Cogeremos las filas de la tabla para el contenido"
   ]
  },
  {
   "cell_type": "code",
   "execution_count": 134,
   "metadata": {},
   "outputs": [],
   "source": [
    "rows=awards_table.findAll(\"tr\")"
   ]
  },
  {
   "cell_type": "markdown",
   "metadata": {},
   "source": [
    "Recorreremos las filas con sus respectivas celdas e iremos llenando el dataframe"
   ]
  },
  {
   "cell_type": "code",
   "execution_count": 135,
   "metadata": {},
   "outputs": [
    {
     "data": {
      "text/plain": [
       "<tr>\n",
       "<th>Año\n",
       "</th>\n",
       "<th>Trabajo\n",
       "</th>\n",
       "<th>Premio\n",
       "</th>\n",
       "<th>Categoría\n",
       "</th>\n",
       "<th>Resultado\n",
       "</th></tr>"
      ]
     },
     "execution_count": 135,
     "metadata": {},
     "output_type": "execute_result"
    }
   ],
   "source": [
    "rows[0]"
   ]
  },
  {
   "cell_type": "markdown",
   "metadata": {},
   "source": [
    "Eliminaremos la primera fila, que contiene los encabezados"
   ]
  },
  {
   "cell_type": "code",
   "execution_count": 136,
   "metadata": {},
   "outputs": [],
   "source": [
    "rows=rows[1:]"
   ]
  },
  {
   "cell_type": "code",
   "execution_count": 137,
   "metadata": {},
   "outputs": [
    {
     "data": {
      "text/plain": [
       "<tr>\n",
       "<td>1995</td>\n",
       "<td><i>An Experienced Woman Gives Advice</i></td>\n",
       "<td>Premio de Teatro Manchester Evening News<sup class=\"reference separada\" id=\"cite_ref-48\"><a href=\"#cite_note-48\"><span class=\"corchete-llamada\">[</span>48<span class=\"corchete-llamada\">]</span></a></sup>​</td>\n",
       "<td>Mejor Actor</td>\n",
       "<td rowspan=\"\" style=\"background-color:#fdd;color:black; text-align:center; vertical-align:middle;\">Nominado\n",
       "</td></tr>"
      ]
     },
     "execution_count": 137,
     "metadata": {},
     "output_type": "execute_result"
    }
   ],
   "source": [
    "rows[0]"
   ]
  },
  {
   "cell_type": "code",
   "execution_count": 138,
   "metadata": {},
   "outputs": [],
   "source": [
    "for row in rows:\n",
    "    cells=row.findAll(\"td\")\n",
    "    year=cells[0].text\n",
    "    work=cells[1].text\n",
    "    award=cells[2].text[:-5] #Eliminamos el número de nota al final\n",
    "    category=cells[3].text\n",
    "    result=cells[4].text[:-1] #Eliminamos un salto de linea al final\n",
    "    df=pd.concat([df, pd.DataFrame([{'Año': year, 'Trabajo' : work, 'Premio' : award, 'Categoría': category, 'Resultado' : result}])])\n",
    "    "
   ]
  },
  {
   "cell_type": "code",
   "execution_count": 139,
   "metadata": {},
   "outputs": [
    {
     "data": {
      "text/html": [
       "<div>\n",
       "<style scoped>\n",
       "    .dataframe tbody tr th:only-of-type {\n",
       "        vertical-align: middle;\n",
       "    }\n",
       "\n",
       "    .dataframe tbody tr th {\n",
       "        vertical-align: top;\n",
       "    }\n",
       "\n",
       "    .dataframe thead th {\n",
       "        text-align: right;\n",
       "    }\n",
       "</style>\n",
       "<table border=\"1\" class=\"dataframe\">\n",
       "  <thead>\n",
       "    <tr style=\"text-align: right;\">\n",
       "      <th></th>\n",
       "      <th>Año</th>\n",
       "      <th>Trabajo</th>\n",
       "      <th>Premio</th>\n",
       "      <th>Categoría</th>\n",
       "      <th>Resultado</th>\n",
       "    </tr>\n",
       "  </thead>\n",
       "  <tbody>\n",
       "    <tr>\n",
       "      <th>0</th>\n",
       "      <td>1995</td>\n",
       "      <td>An Experienced Woman Gives Advice</td>\n",
       "      <td>Premio de Teatro Manchester Evening News</td>\n",
       "      <td>Mejor Actor</td>\n",
       "      <td>Nominado</td>\n",
       "    </tr>\n",
       "    <tr>\n",
       "      <th>0</th>\n",
       "      <td>1996</td>\n",
       "      <td>The Glass Menagerie</td>\n",
       "      <td>Theatre Management Association</td>\n",
       "      <td>Mejor Actor</td>\n",
       "      <td>Nominado</td>\n",
       "    </tr>\n",
       "    <tr>\n",
       "      <th>0</th>\n",
       "      <td>2000</td>\n",
       "      <td>The Comedy of Errors</td>\n",
       "      <td>Premio Ian Charleson</td>\n",
       "      <td>Best Classical Actor Under 30</td>\n",
       "      <td>Nominado</td>\n",
       "    </tr>\n",
       "    <tr>\n",
       "      <th>0</th>\n",
       "      <td>2003</td>\n",
       "      <td>Lobby Hero</td>\n",
       "      <td>Premio Olivier</td>\n",
       "      <td>Mejor Actor</td>\n",
       "      <td>Nominado</td>\n",
       "    </tr>\n",
       "    <tr>\n",
       "      <th>0</th>\n",
       "      <td>2005</td>\n",
       "      <td>Look Back in Anger</td>\n",
       "      <td>Critics' Awards for Theatre in Scotland</td>\n",
       "      <td>Best Male Performance</td>\n",
       "      <td>Ganador</td>\n",
       "    </tr>\n",
       "  </tbody>\n",
       "</table>\n",
       "</div>"
      ],
      "text/plain": [
       "    Año                            Trabajo  \\\n",
       "0  1995  An Experienced Woman Gives Advice   \n",
       "0  1996                The Glass Menagerie   \n",
       "0  2000               The Comedy of Errors   \n",
       "0  2003                         Lobby Hero   \n",
       "0  2005                 Look Back in Anger   \n",
       "\n",
       "                                     Premio                      Categoría  \\\n",
       "0  Premio de Teatro Manchester Evening News                    Mejor Actor   \n",
       "0            Theatre Management Association                    Mejor Actor   \n",
       "0                      Premio Ian Charleson  Best Classical Actor Under 30   \n",
       "0                            Premio Olivier                    Mejor Actor   \n",
       "0   Critics' Awards for Theatre in Scotland          Best Male Performance   \n",
       "\n",
       "  Resultado  \n",
       "0  Nominado  \n",
       "0  Nominado  \n",
       "0  Nominado  \n",
       "0  Nominado  \n",
       "0   Ganador  "
      ]
     },
     "execution_count": 139,
     "metadata": {},
     "output_type": "execute_result"
    }
   ],
   "source": [
    "df.head()"
   ]
  },
  {
   "cell_type": "markdown",
   "metadata": {},
   "source": [
    "Ya tenemos nuestro dataframe listo para ser almacenado en un csv"
   ]
  },
  {
   "cell_type": "code",
   "execution_count": 140,
   "metadata": {},
   "outputs": [],
   "source": [
    "df.to_csv(\"bs_david_tennant.csv\")"
   ]
  },
  {
   "cell_type": "code",
   "execution_count": null,
   "metadata": {},
   "outputs": [],
   "source": []
  },
  {
   "cell_type": "code",
   "execution_count": null,
   "metadata": {},
   "outputs": [],
   "source": []
  }
 ],
 "metadata": {
  "kernelspec": {
   "display_name": "con-01",
   "language": "python",
   "name": "python3"
  },
  "language_info": {
   "codemirror_mode": {
    "name": "ipython",
    "version": 3
   },
   "file_extension": ".py",
   "mimetype": "text/x-python",
   "name": "python",
   "nbconvert_exporter": "python",
   "pygments_lexer": "ipython3",
   "version": "3.11.3"
  }
 },
 "nbformat": 4,
 "nbformat_minor": 2
}
