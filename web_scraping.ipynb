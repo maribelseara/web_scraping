{
 "cells": [
  {
   "cell_type": "code",
   "execution_count": 14,
   "metadata": {},
   "outputs": [],
   "source": [
    "import pandas as pd\n",
    "import requests\n",
    "from bs4 import BeautifulSoup\n",
    "from selenium.webdriver import Firefox\n",
    "from selenium.webdriver.firefox.options import Options\n",
    "from selenium.webdriver.common.by import By\n",
    "from selenium.webdriver.support.ui import WebDriverWait\n",
    "from selenium.webdriver.support import expected_conditions as EC\n",
    "from selenium.common.exceptions import TimeoutException\n",
    "import scrapy\n",
    "import os\n",
    "from time import sleep\n",
    "import random\n",
    "from datetime import date"
   ]
  },
  {
   "cell_type": "markdown",
   "metadata": {},
   "source": [
    "# Tasca M10 T01"
   ]
  },
  {
   "cell_type": "markdown",
   "metadata": {},
   "source": [
    "### - Exercici 1\n",
    "Realitza web scraping de dues de les tres pàgines web proposades utilitzant BeautifulSoup primer i Selenium després. \n",
    "\n",
    "- http://quotes.toscrape.com\n",
    "\n",
    "- https://www.bolsamadrid.es\n",
    "\n",
    "- www.wikipedia.es (fes alguna cerca primer i escrapeja algun contingut)"
   ]
  },
  {
   "cell_type": "markdown",
   "metadata": {},
   "source": [
    "Primero vamos a realizar una request de la página y luego vamos a parsear el contenido con el parseador de html usando BeautifulSoup"
   ]
  },
  {
   "cell_type": "code",
   "execution_count": 2,
   "metadata": {},
   "outputs": [],
   "source": [
    "url = \"https://quotes.toscrape.com/\"\n",
    "page = requests.get(url)\n",
    "soup = BeautifulSoup(page.content, \"html.parser\")"
   ]
  },
  {
   "cell_type": "markdown",
   "metadata": {},
   "source": [
    "Con la herramienta de inspección vemos que todas las citas están contenidas en contenedores div que pertenecen a la clase 'quote'. Vamos a seleccionarlas."
   ]
  },
  {
   "cell_type": "code",
   "execution_count": 3,
   "metadata": {},
   "outputs": [],
   "source": [
    "quotes=soup.find_all(\"div\", class_=\"quote\")"
   ]
  },
  {
   "cell_type": "code",
   "execution_count": 4,
   "metadata": {},
   "outputs": [
    {
     "name": "stdout",
     "output_type": "stream",
     "text": [
      "<div class=\"quote\" itemscope=\"\" itemtype=\"http://schema.org/CreativeWork\">\n",
      "<span class=\"text\" itemprop=\"text\">“The world as we have created it is a process of our thinking. It cannot be changed without changing our thinking.”</span>\n",
      "<span>by <small class=\"author\" itemprop=\"author\">Albert Einstein</small>\n",
      "<a href=\"/author/Albert-Einstein\">(about)</a>\n",
      "</span>\n",
      "<div class=\"tags\">\n",
      "            Tags:\n",
      "            <meta class=\"keywords\" content=\"change,deep-thoughts,thinking,world\" itemprop=\"keywords\"/>\n",
      "<a class=\"tag\" href=\"/tag/change/page/1/\">change</a>\n",
      "<a class=\"tag\" href=\"/tag/deep-thoughts/page/1/\">deep-thoughts</a>\n",
      "<a class=\"tag\" href=\"/tag/thinking/page/1/\">thinking</a>\n",
      "<a class=\"tag\" href=\"/tag/world/page/1/\">world</a>\n",
      "</div>\n",
      "</div>\n",
      "\n",
      "<div class=\"quote\" itemscope=\"\" itemtype=\"http://schema.org/CreativeWork\">\n",
      "<span class=\"text\" itemprop=\"text\">“It is our choices, Harry, that show what we truly are, far more than our abilities.”</span>\n",
      "<span>by <small class=\"author\" itemprop=\"author\">J.K. Rowling</small>\n",
      "<a href=\"/author/J-K-Rowling\">(about)</a>\n",
      "</span>\n",
      "<div class=\"tags\">\n",
      "            Tags:\n",
      "            <meta class=\"keywords\" content=\"abilities,choices\" itemprop=\"keywords\"/>\n",
      "<a class=\"tag\" href=\"/tag/abilities/page/1/\">abilities</a>\n",
      "<a class=\"tag\" href=\"/tag/choices/page/1/\">choices</a>\n",
      "</div>\n",
      "</div>\n",
      "\n",
      "<div class=\"quote\" itemscope=\"\" itemtype=\"http://schema.org/CreativeWork\">\n",
      "<span class=\"text\" itemprop=\"text\">“There are only two ways to live your life. One is as though nothing is a miracle. The other is as though everything is a miracle.”</span>\n",
      "<span>by <small class=\"author\" itemprop=\"author\">Albert Einstein</small>\n",
      "<a href=\"/author/Albert-Einstein\">(about)</a>\n",
      "</span>\n",
      "<div class=\"tags\">\n",
      "            Tags:\n",
      "            <meta class=\"keywords\" content=\"inspirational,life,live,miracle,miracles\" itemprop=\"keywords\"/>\n",
      "<a class=\"tag\" href=\"/tag/inspirational/page/1/\">inspirational</a>\n",
      "<a class=\"tag\" href=\"/tag/life/page/1/\">life</a>\n",
      "<a class=\"tag\" href=\"/tag/live/page/1/\">live</a>\n",
      "<a class=\"tag\" href=\"/tag/miracle/page/1/\">miracle</a>\n",
      "<a class=\"tag\" href=\"/tag/miracles/page/1/\">miracles</a>\n",
      "</div>\n",
      "</div>\n",
      "\n",
      "<div class=\"quote\" itemscope=\"\" itemtype=\"http://schema.org/CreativeWork\">\n",
      "<span class=\"text\" itemprop=\"text\">“The person, be it gentleman or lady, who has not pleasure in a good novel, must be intolerably stupid.”</span>\n",
      "<span>by <small class=\"author\" itemprop=\"author\">Jane Austen</small>\n",
      "<a href=\"/author/Jane-Austen\">(about)</a>\n",
      "</span>\n",
      "<div class=\"tags\">\n",
      "            Tags:\n",
      "            <meta class=\"keywords\" content=\"aliteracy,books,classic,humor\" itemprop=\"keywords\"/>\n",
      "<a class=\"tag\" href=\"/tag/aliteracy/page/1/\">aliteracy</a>\n",
      "<a class=\"tag\" href=\"/tag/books/page/1/\">books</a>\n",
      "<a class=\"tag\" href=\"/tag/classic/page/1/\">classic</a>\n",
      "<a class=\"tag\" href=\"/tag/humor/page/1/\">humor</a>\n",
      "</div>\n",
      "</div>\n",
      "\n",
      "<div class=\"quote\" itemscope=\"\" itemtype=\"http://schema.org/CreativeWork\">\n",
      "<span class=\"text\" itemprop=\"text\">“Imperfection is beauty, madness is genius and it's better to be absolutely ridiculous than absolutely boring.”</span>\n",
      "<span>by <small class=\"author\" itemprop=\"author\">Marilyn Monroe</small>\n",
      "<a href=\"/author/Marilyn-Monroe\">(about)</a>\n",
      "</span>\n",
      "<div class=\"tags\">\n",
      "            Tags:\n",
      "            <meta class=\"keywords\" content=\"be-yourself,inspirational\" itemprop=\"keywords\"/>\n",
      "<a class=\"tag\" href=\"/tag/be-yourself/page/1/\">be-yourself</a>\n",
      "<a class=\"tag\" href=\"/tag/inspirational/page/1/\">inspirational</a>\n",
      "</div>\n",
      "</div>\n",
      "\n",
      "<div class=\"quote\" itemscope=\"\" itemtype=\"http://schema.org/CreativeWork\">\n",
      "<span class=\"text\" itemprop=\"text\">“Try not to become a man of success. Rather become a man of value.”</span>\n",
      "<span>by <small class=\"author\" itemprop=\"author\">Albert Einstein</small>\n",
      "<a href=\"/author/Albert-Einstein\">(about)</a>\n",
      "</span>\n",
      "<div class=\"tags\">\n",
      "            Tags:\n",
      "            <meta class=\"keywords\" content=\"adulthood,success,value\" itemprop=\"keywords\"/>\n",
      "<a class=\"tag\" href=\"/tag/adulthood/page/1/\">adulthood</a>\n",
      "<a class=\"tag\" href=\"/tag/success/page/1/\">success</a>\n",
      "<a class=\"tag\" href=\"/tag/value/page/1/\">value</a>\n",
      "</div>\n",
      "</div>\n",
      "\n",
      "<div class=\"quote\" itemscope=\"\" itemtype=\"http://schema.org/CreativeWork\">\n",
      "<span class=\"text\" itemprop=\"text\">“It is better to be hated for what you are than to be loved for what you are not.”</span>\n",
      "<span>by <small class=\"author\" itemprop=\"author\">André Gide</small>\n",
      "<a href=\"/author/Andre-Gide\">(about)</a>\n",
      "</span>\n",
      "<div class=\"tags\">\n",
      "            Tags:\n",
      "            <meta class=\"keywords\" content=\"life,love\" itemprop=\"keywords\"/>\n",
      "<a class=\"tag\" href=\"/tag/life/page/1/\">life</a>\n",
      "<a class=\"tag\" href=\"/tag/love/page/1/\">love</a>\n",
      "</div>\n",
      "</div>\n",
      "\n",
      "<div class=\"quote\" itemscope=\"\" itemtype=\"http://schema.org/CreativeWork\">\n",
      "<span class=\"text\" itemprop=\"text\">“I have not failed. I've just found 10,000 ways that won't work.”</span>\n",
      "<span>by <small class=\"author\" itemprop=\"author\">Thomas A. Edison</small>\n",
      "<a href=\"/author/Thomas-A-Edison\">(about)</a>\n",
      "</span>\n",
      "<div class=\"tags\">\n",
      "            Tags:\n",
      "            <meta class=\"keywords\" content=\"edison,failure,inspirational,paraphrased\" itemprop=\"keywords\"/>\n",
      "<a class=\"tag\" href=\"/tag/edison/page/1/\">edison</a>\n",
      "<a class=\"tag\" href=\"/tag/failure/page/1/\">failure</a>\n",
      "<a class=\"tag\" href=\"/tag/inspirational/page/1/\">inspirational</a>\n",
      "<a class=\"tag\" href=\"/tag/paraphrased/page/1/\">paraphrased</a>\n",
      "</div>\n",
      "</div>\n",
      "\n",
      "<div class=\"quote\" itemscope=\"\" itemtype=\"http://schema.org/CreativeWork\">\n",
      "<span class=\"text\" itemprop=\"text\">“A woman is like a tea bag; you never know how strong it is until it's in hot water.”</span>\n",
      "<span>by <small class=\"author\" itemprop=\"author\">Eleanor Roosevelt</small>\n",
      "<a href=\"/author/Eleanor-Roosevelt\">(about)</a>\n",
      "</span>\n",
      "<div class=\"tags\">\n",
      "            Tags:\n",
      "            <meta class=\"keywords\" content=\"misattributed-eleanor-roosevelt\" itemprop=\"keywords\"/>\n",
      "<a class=\"tag\" href=\"/tag/misattributed-eleanor-roosevelt/page/1/\">misattributed-eleanor-roosevelt</a>\n",
      "</div>\n",
      "</div>\n",
      "\n",
      "<div class=\"quote\" itemscope=\"\" itemtype=\"http://schema.org/CreativeWork\">\n",
      "<span class=\"text\" itemprop=\"text\">“A day without sunshine is like, you know, night.”</span>\n",
      "<span>by <small class=\"author\" itemprop=\"author\">Steve Martin</small>\n",
      "<a href=\"/author/Steve-Martin\">(about)</a>\n",
      "</span>\n",
      "<div class=\"tags\">\n",
      "            Tags:\n",
      "            <meta class=\"keywords\" content=\"humor,obvious,simile\" itemprop=\"keywords\"/>\n",
      "<a class=\"tag\" href=\"/tag/humor/page/1/\">humor</a>\n",
      "<a class=\"tag\" href=\"/tag/obvious/page/1/\">obvious</a>\n",
      "<a class=\"tag\" href=\"/tag/simile/page/1/\">simile</a>\n",
      "</div>\n",
      "</div>\n",
      "\n"
     ]
    }
   ],
   "source": [
    "for quote in quotes:\n",
    "    print(quote, end=\"\\n\"*2)"
   ]
  },
  {
   "cell_type": "markdown",
   "metadata": {},
   "source": [
    "Ya tenemos las citas recogidas en la variable quotes, pero con mucho html y la información mezclada. Vamos a sacar ahora la información que necesitamos: el texto de la cita, el autor y los tags."
   ]
  },
  {
   "cell_type": "code",
   "execution_count": 5,
   "metadata": {},
   "outputs": [
    {
     "name": "stdout",
     "output_type": "stream",
     "text": [
      "“The world as we have created it is a process of our thinking. It cannot be changed without changing our thinking.” Albert Einstein ['change', 'deep-thoughts', 'thinking', 'world']\n",
      "“It is our choices, Harry, that show what we truly are, far more than our abilities.” J.K. Rowling ['abilities', 'choices']\n",
      "“There are only two ways to live your life. One is as though nothing is a miracle. The other is as though everything is a miracle.” Albert Einstein ['inspirational', 'life', 'live', 'miracle', 'miracles']\n",
      "“The person, be it gentleman or lady, who has not pleasure in a good novel, must be intolerably stupid.” Jane Austen ['aliteracy', 'books', 'classic', 'humor']\n",
      "“Imperfection is beauty, madness is genius and it's better to be absolutely ridiculous than absolutely boring.” Marilyn Monroe ['be-yourself', 'inspirational']\n",
      "“Try not to become a man of success. Rather become a man of value.” Albert Einstein ['adulthood', 'success', 'value']\n",
      "“It is better to be hated for what you are than to be loved for what you are not.” André Gide ['life', 'love']\n",
      "“I have not failed. I've just found 10,000 ways that won't work.” Thomas A. Edison ['edison', 'failure', 'inspirational', 'paraphrased']\n",
      "“A woman is like a tea bag; you never know how strong it is until it's in hot water.” Eleanor Roosevelt ['misattributed-eleanor-roosevelt']\n",
      "“A day without sunshine is like, you know, night.” Steve Martin ['humor', 'obvious', 'simile']\n"
     ]
    }
   ],
   "source": [
    "for quote in quotes:\n",
    "    text=quote.find(\"span\", class_=\"text\").text\n",
    "    author=quote.find(\"small\", class_=\"author\").text\n",
    "    tag_html=quote.find_all(\"a\", class_=\"tag\")\n",
    "    tag_list=[]\n",
    "    for tag in tag_html:\n",
    "        tag_list.append(tag.text)\n",
    "    print(text, author, tag_list)"
   ]
  },
  {
   "cell_type": "markdown",
   "metadata": {},
   "source": [
    "Crearemos un dataframe y guardaremos los datos en él"
   ]
  },
  {
   "cell_type": "code",
   "execution_count": 6,
   "metadata": {},
   "outputs": [],
   "source": [
    "df = pd.DataFrame(columns=['text', 'author', 'tags'])"
   ]
  },
  {
   "cell_type": "code",
   "execution_count": 7,
   "metadata": {},
   "outputs": [],
   "source": [
    "for quote in quotes:\n",
    "    text=quote.find(\"span\", class_=\"text\").text\n",
    "    author=quote.find(\"small\", class_=\"author\").text\n",
    "    tag_html=quote.find_all(\"a\", class_=\"tag\")\n",
    "    tag_list=[]\n",
    "    for tag in tag_html:\n",
    "        tag_list.append(tag.text)\n",
    "    df = pd.concat([df, pd.DataFrame([{'text': text, 'author':author, 'tags': tag_list}])], ignore_index=True)"
   ]
  },
  {
   "cell_type": "code",
   "execution_count": 8,
   "metadata": {},
   "outputs": [
    {
     "data": {
      "text/html": [
       "<div>\n",
       "<style scoped>\n",
       "    .dataframe tbody tr th:only-of-type {\n",
       "        vertical-align: middle;\n",
       "    }\n",
       "\n",
       "    .dataframe tbody tr th {\n",
       "        vertical-align: top;\n",
       "    }\n",
       "\n",
       "    .dataframe thead th {\n",
       "        text-align: right;\n",
       "    }\n",
       "</style>\n",
       "<table border=\"1\" class=\"dataframe\">\n",
       "  <thead>\n",
       "    <tr style=\"text-align: right;\">\n",
       "      <th></th>\n",
       "      <th>text</th>\n",
       "      <th>author</th>\n",
       "      <th>tags</th>\n",
       "    </tr>\n",
       "  </thead>\n",
       "  <tbody>\n",
       "    <tr>\n",
       "      <th>0</th>\n",
       "      <td>“The world as we have created it is a process ...</td>\n",
       "      <td>Albert Einstein</td>\n",
       "      <td>[change, deep-thoughts, thinking, world]</td>\n",
       "    </tr>\n",
       "    <tr>\n",
       "      <th>1</th>\n",
       "      <td>“It is our choices, Harry, that show what we t...</td>\n",
       "      <td>J.K. Rowling</td>\n",
       "      <td>[abilities, choices]</td>\n",
       "    </tr>\n",
       "    <tr>\n",
       "      <th>2</th>\n",
       "      <td>“There are only two ways to live your life. On...</td>\n",
       "      <td>Albert Einstein</td>\n",
       "      <td>[inspirational, life, live, miracle, miracles]</td>\n",
       "    </tr>\n",
       "    <tr>\n",
       "      <th>3</th>\n",
       "      <td>“The person, be it gentleman or lady, who has ...</td>\n",
       "      <td>Jane Austen</td>\n",
       "      <td>[aliteracy, books, classic, humor]</td>\n",
       "    </tr>\n",
       "    <tr>\n",
       "      <th>4</th>\n",
       "      <td>“Imperfection is beauty, madness is genius and...</td>\n",
       "      <td>Marilyn Monroe</td>\n",
       "      <td>[be-yourself, inspirational]</td>\n",
       "    </tr>\n",
       "  </tbody>\n",
       "</table>\n",
       "</div>"
      ],
      "text/plain": [
       "                                                text           author  \\\n",
       "0  “The world as we have created it is a process ...  Albert Einstein   \n",
       "1  “It is our choices, Harry, that show what we t...     J.K. Rowling   \n",
       "2  “There are only two ways to live your life. On...  Albert Einstein   \n",
       "3  “The person, be it gentleman or lady, who has ...      Jane Austen   \n",
       "4  “Imperfection is beauty, madness is genius and...   Marilyn Monroe   \n",
       "\n",
       "                                             tags  \n",
       "0        [change, deep-thoughts, thinking, world]  \n",
       "1                            [abilities, choices]  \n",
       "2  [inspirational, life, live, miracle, miracles]  \n",
       "3              [aliteracy, books, classic, humor]  \n",
       "4                    [be-yourself, inspirational]  "
      ]
     },
     "execution_count": 8,
     "metadata": {},
     "output_type": "execute_result"
    }
   ],
   "source": [
    "df.head()"
   ]
  },
  {
   "cell_type": "markdown",
   "metadata": {},
   "source": [
    "Como la web tiene 10 páginas y queremos almacenarlas todas, crearemos el mismo proceso que hemos hecho pero dentro de un bucle"
   ]
  },
  {
   "cell_type": "code",
   "execution_count": 9,
   "metadata": {},
   "outputs": [],
   "source": [
    "df = pd.DataFrame(columns=['text', 'author', 'tags'])"
   ]
  },
  {
   "cell_type": "code",
   "execution_count": 10,
   "metadata": {},
   "outputs": [],
   "source": [
    "for i in range(1,11):\n",
    "    url=\"https://quotes.toscrape.com/page/\" + str(i) + \"/\"\n",
    "    page = requests.get(url)\n",
    "    soup = BeautifulSoup(page.content, \"html.parser\")\n",
    "    quotes=soup.find_all(\"div\", class_=\"quote\")\n",
    "    for quote in quotes:\n",
    "        text=quote.find(\"span\", class_=\"text\").text\n",
    "        author=quote.find(\"small\", class_=\"author\").text\n",
    "        tag_html=quote.find_all(\"a\", class_=\"tag\")\n",
    "        tag_list=[]\n",
    "        for tag in tag_html:\n",
    "            tag_list.append(tag.text)\n",
    "        df = pd.concat([df, pd.DataFrame([{'text': text, 'author':author, 'tags': tag_list}])], ignore_index=True)\n",
    "    "
   ]
  },
  {
   "cell_type": "code",
   "execution_count": 11,
   "metadata": {},
   "outputs": [
    {
     "data": {
      "text/plain": [
       "text      100\n",
       "author    100\n",
       "tags      100\n",
       "dtype: int64"
      ]
     },
     "execution_count": 11,
     "metadata": {},
     "output_type": "execute_result"
    }
   ],
   "source": [
    "df.count()"
   ]
  },
  {
   "cell_type": "markdown",
   "metadata": {},
   "source": [
    "La web tiene 10 citas por página, así que podemos ver que ha guardado el contenido de toda la web en el dataframe. A continuación vamos a almacenar nuestro dataframe en un csv, para poderlo usar en otro momento."
   ]
  },
  {
   "cell_type": "code",
   "execution_count": 12,
   "metadata": {},
   "outputs": [],
   "source": [
    "df.to_csv(\"bs_quotes.csv\")"
   ]
  },
  {
   "cell_type": "markdown",
   "metadata": {},
   "source": [
    "Ahora repetiremos el proceso pero con Selenium."
   ]
  },
  {
   "cell_type": "code",
   "execution_count": 13,
   "metadata": {},
   "outputs": [],
   "source": [
    "url=\"https://quotes.toscrape.com/\""
   ]
  },
  {
   "cell_type": "code",
   "execution_count": 14,
   "metadata": {},
   "outputs": [],
   "source": [
    "opts = Options()\n",
    "opts.add_argument('-headless=new')\n",
    "browser = Firefox(options=opts)\n",
    "browser.get(url)"
   ]
  },
  {
   "cell_type": "code",
   "execution_count": 15,
   "metadata": {},
   "outputs": [],
   "source": [
    "quotes=browser.find_elements(By.CLASS_NAME, 'quote')"
   ]
  },
  {
   "cell_type": "code",
   "execution_count": 16,
   "metadata": {},
   "outputs": [
    {
     "name": "stdout",
     "output_type": "stream",
     "text": [
      "“The world as we have created it is a process of our thinking. It cannot be changed without changing our thinking.” Albert Einstein ['Tags: change deep-thoughts thinking world']\n",
      "“It is our choices, Harry, that show what we truly are, far more than our abilities.” J.K. Rowling ['Tags: abilities choices']\n",
      "“There are only two ways to live your life. One is as though nothing is a miracle. The other is as though everything is a miracle.” Albert Einstein ['Tags: inspirational life live miracle miracles']\n",
      "“The person, be it gentleman or lady, who has not pleasure in a good novel, must be intolerably stupid.” Jane Austen ['Tags: aliteracy books classic humor']\n",
      "“Imperfection is beauty, madness is genius and it's better to be absolutely ridiculous than absolutely boring.” Marilyn Monroe ['Tags: be-yourself inspirational']\n",
      "“Try not to become a man of success. Rather become a man of value.” Albert Einstein ['Tags: adulthood success value']\n",
      "“It is better to be hated for what you are than to be loved for what you are not.” André Gide ['Tags: life love']\n",
      "“I have not failed. I've just found 10,000 ways that won't work.” Thomas A. Edison ['Tags: edison failure inspirational paraphrased']\n",
      "“A woman is like a tea bag; you never know how strong it is until it's in hot water.” Eleanor Roosevelt ['Tags: misattributed-eleanor-roosevelt']\n",
      "“A day without sunshine is like, you know, night.” Steve Martin ['Tags: humor obvious simile']\n"
     ]
    }
   ],
   "source": [
    "for quote in quotes:\n",
    "    text=quote.find_element(By.CLASS_NAME, 'text').text\n",
    "    author=quote.find_element(By.CLASS_NAME, 'author').text\n",
    "    tag_html=quote.find_elements(By.CLASS_NAME, 'tags')\n",
    "    tag_list=[]\n",
    "    for tag in tag_html:\n",
    "        tag_list.append(tag.text)\n",
    "    print(text, author, tag_list)"
   ]
  },
  {
   "cell_type": "markdown",
   "metadata": {},
   "source": [
    "Tal como hemos hecho con Beautiful Soup ahora haremos que visite las 10 páginas que forman la web y meteremos el contenido en un dataframe"
   ]
  },
  {
   "cell_type": "code",
   "execution_count": 17,
   "metadata": {},
   "outputs": [],
   "source": [
    "df = pd.DataFrame(columns=['text', 'author', 'tags'])"
   ]
  },
  {
   "cell_type": "code",
   "execution_count": 18,
   "metadata": {},
   "outputs": [],
   "source": [
    "for i in range(1,11):\n",
    "    url=\"https://quotes.toscrape.com/page/\" + str(i) + \"/\"\n",
    "    browser.get(url)\n",
    "    quotes=browser.find_elements(By.CLASS_NAME, 'quote')\n",
    "    for quote in quotes:\n",
    "        text=quote.find_element(By.CLASS_NAME, 'text').text\n",
    "        author=quote.find_element(By.CLASS_NAME, 'author').text\n",
    "        tag_html=quote.find_elements(By.CLASS_NAME, 'tags')\n",
    "        tag_list=[]\n",
    "        for tag in tag_html:\n",
    "            tag_list.append(tag.text)\n",
    "        df = pd.concat([df, pd.DataFrame([{'text': text, 'author':author, 'tags': tag_list}])], ignore_index=True)\n",
    "browser.quit()\n",
    "    "
   ]
  },
  {
   "cell_type": "code",
   "execution_count": 19,
   "metadata": {},
   "outputs": [
    {
     "data": {
      "text/html": [
       "<div>\n",
       "<style scoped>\n",
       "    .dataframe tbody tr th:only-of-type {\n",
       "        vertical-align: middle;\n",
       "    }\n",
       "\n",
       "    .dataframe tbody tr th {\n",
       "        vertical-align: top;\n",
       "    }\n",
       "\n",
       "    .dataframe thead th {\n",
       "        text-align: right;\n",
       "    }\n",
       "</style>\n",
       "<table border=\"1\" class=\"dataframe\">\n",
       "  <thead>\n",
       "    <tr style=\"text-align: right;\">\n",
       "      <th></th>\n",
       "      <th>text</th>\n",
       "      <th>author</th>\n",
       "      <th>tags</th>\n",
       "    </tr>\n",
       "  </thead>\n",
       "  <tbody>\n",
       "    <tr>\n",
       "      <th>0</th>\n",
       "      <td>“The world as we have created it is a process ...</td>\n",
       "      <td>Albert Einstein</td>\n",
       "      <td>[Tags: change deep-thoughts thinking world]</td>\n",
       "    </tr>\n",
       "    <tr>\n",
       "      <th>1</th>\n",
       "      <td>“It is our choices, Harry, that show what we t...</td>\n",
       "      <td>J.K. Rowling</td>\n",
       "      <td>[Tags: abilities choices]</td>\n",
       "    </tr>\n",
       "    <tr>\n",
       "      <th>2</th>\n",
       "      <td>“There are only two ways to live your life. On...</td>\n",
       "      <td>Albert Einstein</td>\n",
       "      <td>[Tags: inspirational life live miracle miracles]</td>\n",
       "    </tr>\n",
       "    <tr>\n",
       "      <th>3</th>\n",
       "      <td>“The person, be it gentleman or lady, who has ...</td>\n",
       "      <td>Jane Austen</td>\n",
       "      <td>[Tags: aliteracy books classic humor]</td>\n",
       "    </tr>\n",
       "    <tr>\n",
       "      <th>4</th>\n",
       "      <td>“Imperfection is beauty, madness is genius and...</td>\n",
       "      <td>Marilyn Monroe</td>\n",
       "      <td>[Tags: be-yourself inspirational]</td>\n",
       "    </tr>\n",
       "  </tbody>\n",
       "</table>\n",
       "</div>"
      ],
      "text/plain": [
       "                                                text           author  \\\n",
       "0  “The world as we have created it is a process ...  Albert Einstein   \n",
       "1  “It is our choices, Harry, that show what we t...     J.K. Rowling   \n",
       "2  “There are only two ways to live your life. On...  Albert Einstein   \n",
       "3  “The person, be it gentleman or lady, who has ...      Jane Austen   \n",
       "4  “Imperfection is beauty, madness is genius and...   Marilyn Monroe   \n",
       "\n",
       "                                               tags  \n",
       "0       [Tags: change deep-thoughts thinking world]  \n",
       "1                         [Tags: abilities choices]  \n",
       "2  [Tags: inspirational life live miracle miracles]  \n",
       "3             [Tags: aliteracy books classic humor]  \n",
       "4                 [Tags: be-yourself inspirational]  "
      ]
     },
     "execution_count": 19,
     "metadata": {},
     "output_type": "execute_result"
    }
   ],
   "source": [
    "df.head()"
   ]
  },
  {
   "cell_type": "markdown",
   "metadata": {},
   "source": [
    "Y guardaremos los datos generados en un csv"
   ]
  },
  {
   "cell_type": "code",
   "execution_count": 20,
   "metadata": {},
   "outputs": [],
   "source": [
    "df.to_csv(\"sel_quotes.csv\")"
   ]
  },
  {
   "cell_type": "markdown",
   "metadata": {},
   "source": [
    "A continuación realizaremos un scrapeo de Wikipedia, en concreto de este enlace sobre el actor escocés David Tennant https://es.wikipedia.org/wiki/David_Tennant. Queremos guardar los datos de que premios y nominaciones ha recibido a lo largo de su carrera.\n",
    "\n",
    "Empezaremos haciendo el proceso con Beautiful Soup"
   ]
  },
  {
   "cell_type": "code",
   "execution_count": 38,
   "metadata": {},
   "outputs": [],
   "source": [
    "url=\"https://es.wikipedia.org/wiki/David_Tennant\""
   ]
  },
  {
   "cell_type": "code",
   "execution_count": 39,
   "metadata": {},
   "outputs": [],
   "source": [
    "page = requests.get(url)\n",
    "soup = BeautifulSoup(page.content, \"html.parser\")"
   ]
  },
  {
   "cell_type": "markdown",
   "metadata": {},
   "source": [
    "Seleccionamos la tablas del artículo"
   ]
  },
  {
   "cell_type": "code",
   "execution_count": 40,
   "metadata": {},
   "outputs": [],
   "source": [
    "tables=soup.find_all(\"table\", class_=\"wikitable\")"
   ]
  },
  {
   "cell_type": "markdown",
   "metadata": {},
   "source": [
    "La tabla que buscamos es la quinta del artículo (indice 4)"
   ]
  },
  {
   "cell_type": "code",
   "execution_count": 41,
   "metadata": {},
   "outputs": [],
   "source": [
    "awards_table=tables[4]"
   ]
  },
  {
   "cell_type": "code",
   "execution_count": 42,
   "metadata": {},
   "outputs": [
    {
     "name": "stdout",
     "output_type": "stream",
     "text": [
      "<table class=\"wikitable sortable\">\n",
      "<tbody><tr>\n",
      "<th>Año\n",
      "</th>\n",
      "<th>Trabajo\n",
      "</th>\n",
      "<th>Premio\n",
      "</th>\n",
      "<th>Categoría\n",
      "</th>\n",
      "<th>Resultado\n",
      "</th></tr>\n",
      "<tr>\n",
      "<td>1995</td>\n",
      "<td><i>An Experienced Woman Gives Advice</i></td>\n",
      "<td>Premio de Teatro Manchester Evening News<sup class=\"reference separada\" id=\"cite_ref-48\"><a href=\"#cite_note-48\"><span class=\"corchete-llamada\">[</span>48<span class=\"corchete-llamada\">]</span></a></sup>​</td>\n",
      "<td>Mejor Actor</td>\n",
      "<td rowspan=\"\" style=\"background-color:#fdd;color:black; text-align:center; vertical-align:middle;\">Nominado\n",
      "</td></tr>\n",
      "<tr>\n",
      "<td>1996</td>\n",
      "<td><i><a href=\"/wiki/El_zoo_de_cristal\" title=\"El zoo de cristal\">The Glass Menagerie</a></i></td>\n",
      "<td>Theatre Management Association<sup class=\"reference separada\" id=\"cite_ref-49\"><a href=\"#cite_note-49\"><span class=\"corchete-llamada\">[</span>49<span class=\"corchete-llamada\">]</span></a></sup>​</td>\n",
      "<td>Mejor Actor</td>\n",
      "<td rowspan=\"\" style=\"background-color:#fdd;color:black; text-align:center; vertical-align:middle;\">Nominado\n",
      "</td></tr>\n",
      "<tr>\n",
      "<td>2000</td>\n",
      "<td><i><a class=\"mw-redirect\" href=\"/wiki/The_Comedy_of_Errors\" title=\"The Comedy of Errors\">The Comedy of Errors</a></i></td>\n",
      "<td><a class=\"new\" href=\"/w/index.php?title=Premio_Ian_Charleson&amp;action=edit&amp;redlink=1\" title=\"Premio Ian Charleson (aún no redactado)\">Premio Ian Charleson</a><sup class=\"reference separada\" id=\"cite_ref-50\"><a href=\"#cite_note-50\"><span class=\"corchete-llamada\">[</span>50<span class=\"corchete-llamada\">]</span></a></sup>​</td>\n",
      "<td>Best Classical Actor Under 30</td>\n",
      "<td rowspan=\"\" style=\"background-color:#fdd;color:black; text-align:center; vertical-align:middle;\">Nominado\n",
      "</td></tr>\n",
      "<tr>\n",
      "<td>2003</td>\n",
      "<td><i><a class=\"new\" href=\"/w/index.php?title=Lobby_Hero&amp;action=edit&amp;redlink=1\" title=\"Lobby Hero (aún no redactado)\">Lobby Hero</a></i></td>\n",
      "<td><a class=\"mw-redirect\" href=\"/wiki/Premio_Olivier\" title=\"Premio Olivier\">Premio Olivier</a><sup class=\"reference separada\" id=\"cite_ref-51\"><a href=\"#cite_note-51\"><span class=\"corchete-llamada\">[</span>51<span class=\"corchete-llamada\">]</span></a></sup>​</td>\n",
      "<td>Mejor Actor</td>\n",
      "<td rowspan=\"\" style=\"background-color:#fdd;color:black; text-align:center; vertical-align:middle;\">Nominado\n",
      "</td></tr>\n",
      "<tr>\n",
      "<td>2005</td>\n",
      "<td><i><a href=\"/wiki/Look_Back_in_Anger\" title=\"Look Back in Anger\">Look Back in Anger</a></i></td>\n",
      "<td><a class=\"new\" href=\"/w/index.php?title=Critics%27_Awards_for_Theatre_in_Scotland&amp;action=edit&amp;redlink=1\" title=\"Critics' Awards for Theatre in Scotland (aún no redactado)\">Critics' Awards for Theatre in Scotland</a><sup class=\"reference separada\" id=\"cite_ref-52\"><a href=\"#cite_note-52\"><span class=\"corchete-llamada\">[</span>52<span class=\"corchete-llamada\">]</span></a></sup>​</td>\n",
      "<td>Best Male Performance</td>\n",
      "<td rowspan=\"\" style=\"background-color:#99FF99;color:black; text-align:center; vertical-align:middle;\">Ganador\n",
      "</td></tr>\n",
      "<tr>\n",
      "<td>2006</td>\n",
      "<td><i><a class=\"new\" href=\"/w/index.php?title=Casanova_(2005_TV_serial)&amp;action=edit&amp;redlink=1\" title=\"Casanova (2005 TV serial) (aún no redactado)\">Casanova</a></i>, <i><a href=\"/wiki/Secret_Smile\" title=\"Secret Smile\">Secret Smile</a></i>, y <i><a href=\"/wiki/Doctor_Who\" title=\"Doctor Who\">Doctor Who</a></i></td>\n",
      "<td><a class=\"new\" href=\"/w/index.php?title=Broadcasting_Press_Guild&amp;action=edit&amp;redlink=1\" title=\"Broadcasting Press Guild (aún no redactado)\">Broadcasting Press Guild</a><sup class=\"reference separada\" id=\"cite_ref-53\"><a href=\"#cite_note-53\"><span class=\"corchete-llamada\">[</span>53<span class=\"corchete-llamada\">]</span></a></sup>​</td>\n",
      "<td>Best Actor</td>\n",
      "<td rowspan=\"\" style=\"background-color:#fdd;color:black; text-align:center; vertical-align:middle;\">Nominado\n",
      "</td></tr>\n",
      "<tr>\n",
      "<td>2006</td>\n",
      "<td><i><a href=\"/wiki/Doctor_Who\" title=\"Doctor Who\">Doctor Who</a></i></td>\n",
      "<td><a class=\"new\" href=\"/w/index.php?title=TV_Quick&amp;action=edit&amp;redlink=1\" title=\"TV Quick (aún no redactado)\">TV Quick</a> and TV Choice Award<sup class=\"reference separada\" id=\"cite_ref-54\"><a href=\"#cite_note-54\"><span class=\"corchete-llamada\">[</span>54<span class=\"corchete-llamada\">]</span></a></sup>​</td>\n",
      "<td>Best Actor</td>\n",
      "<td rowspan=\"\" style=\"background-color:#99FF99;color:black; text-align:center; vertical-align:middle;\">Ganador\n",
      "</td></tr>\n",
      "<tr>\n",
      "<td>2006</td>\n",
      "<td><i><a href=\"/wiki/Doctor_Who\" title=\"Doctor Who\">Doctor Who</a></i></td>\n",
      "<td><a class=\"new\" href=\"/w/index.php?title=National_Television_Award&amp;action=edit&amp;redlink=1\" title=\"National Television Award (aún no redactado)\">National Television Award</a><sup class=\"reference separada\" id=\"cite_ref-55\"><a href=\"#cite_note-55\"><span class=\"corchete-llamada\">[</span>55<span class=\"corchete-llamada\">]</span></a></sup>​</td>\n",
      "<td>Best Actor</td>\n",
      "<td rowspan=\"\" style=\"background-color:#99FF99;color:black; text-align:center; vertical-align:middle;\">Ganador\n",
      "</td></tr>\n",
      "<tr>\n",
      "<td>2007</td>\n",
      "<td><i><a href=\"/wiki/Doctor_Who\" title=\"Doctor Who\">Doctor Who</a></i></td>\n",
      "<td><a class=\"new\" href=\"/w/index.php?title=BAFTA_Cymru&amp;action=edit&amp;redlink=1\" title=\"BAFTA Cymru (aún no redactado)\">BAFTA Cymru</a><sup class=\"reference separada\" id=\"cite_ref-56\"><a href=\"#cite_note-56\"><span class=\"corchete-llamada\">[</span>56<span class=\"corchete-llamada\">]</span></a></sup>​</td>\n",
      "<td>Best Actor</td>\n",
      "<td rowspan=\"\" style=\"background-color:#99FF99;color:black; text-align:center; vertical-align:middle;\">Ganador\n",
      "</td></tr>\n",
      "<tr>\n",
      "<td>2007</td>\n",
      "<td><i><a href=\"/wiki/Doctor_Who\" title=\"Doctor Who\">Doctor Who</a></i></td>\n",
      "<td>TV Quick and TV Choice Award<sup class=\"reference separada\" id=\"cite_ref-57\"><a href=\"#cite_note-57\"><span class=\"corchete-llamada\">[</span>57<span class=\"corchete-llamada\">]</span></a></sup>​</td>\n",
      "<td>Best Actor</td>\n",
      "<td rowspan=\"\" style=\"background-color:#99FF99;color:black; text-align:center; vertical-align:middle;\">Ganador\n",
      "</td></tr>\n",
      "<tr>\n",
      "<td>2007</td>\n",
      "<td><i><a href=\"/wiki/Doctor_Who\" title=\"Doctor Who\">Doctor Who</a></i></td>\n",
      "<td><a class=\"new\" href=\"/w/index.php?title=Premios_Constellation&amp;action=edit&amp;redlink=1\" title=\"Premios Constellation (aún no redactado)\">Premios Constellation</a><sup class=\"reference separada\" id=\"cite_ref-58\"><a href=\"#cite_note-58\"><span class=\"corchete-llamada\">[</span>58<span class=\"corchete-llamada\">]</span></a></sup>​</td>\n",
      "<td>Best Male Performance in a 2006 Science Fiction Television Episode</td>\n",
      "<td rowspan=\"\" style=\"background-color:#99FF99;color:black; text-align:center; vertical-align:middle;\">Ganador\n",
      "</td></tr>\n",
      "<tr>\n",
      "<td>2007</td>\n",
      "<td><i><a href=\"/wiki/Doctor_Who\" title=\"Doctor Who\">Doctor Who</a></i></td>\n",
      "<td><a class=\"new\" href=\"/w/index.php?title=National_Television_Award&amp;action=edit&amp;redlink=1\" title=\"National Television Award (aún no redactado)\">National Television Award</a><sup class=\"reference separada\" id=\"cite_ref-59\"><a href=\"#cite_note-59\"><span class=\"corchete-llamada\">[</span>59<span class=\"corchete-llamada\">]</span></a></sup>​</td>\n",
      "<td>Most Popular Actor</td>\n",
      "<td rowspan=\"\" style=\"background-color:#99FF99;color:black; text-align:center; vertical-align:middle;\">Ganador\n",
      "</td></tr>\n",
      "<tr>\n",
      "<td>2007</td>\n",
      "<td>-</td>\n",
      "<td><a class=\"new\" href=\"/w/index.php?title=Glenfiddich_Spirit_of_Scotland_Awards&amp;action=edit&amp;redlink=1\" title=\"Glenfiddich Spirit of Scotland Awards (aún no redactado)\">Glenfiddich Spirit of Scotland Award</a><sup class=\"reference separada\" id=\"cite_ref-60\"><a href=\"#cite_note-60\"><span class=\"corchete-llamada\">[</span>60<span class=\"corchete-llamada\">]</span></a></sup>​</td>\n",
      "<td>Screen Award</td>\n",
      "<td rowspan=\"\" style=\"background-color:#99FF99;color:black; text-align:center; vertical-align:middle;\">Ganador\n",
      "</td></tr>\n",
      "<tr>\n",
      "<td>2008</td>\n",
      "<td><i><a href=\"/wiki/Doctor_Who\" title=\"Doctor Who\">Doctor Who</a></i></td>\n",
      "<td>Premios Constellation<sup class=\"reference separada\" id=\"cite_ref-61\"><a href=\"#cite_note-61\"><span class=\"corchete-llamada\">[</span>61<span class=\"corchete-llamada\">]</span></a></sup>​</td>\n",
      "<td>Best Male Performance in a 2007 Science Fiction Television Episode</td>\n",
      "<td rowspan=\"\" style=\"background-color:#99FF99;color:black; text-align:center; vertical-align:middle;\">Ganador\n",
      "</td></tr>\n",
      "<tr>\n",
      "<td>2008</td>\n",
      "<td><i><a href=\"/wiki/Doctor_Who\" title=\"Doctor Who\">Doctor Who</a></i></td>\n",
      "<td>Premio TV Quick and TV Choice<sup class=\"reference separada\" id=\"cite_ref-62\"><a href=\"#cite_note-62\"><span class=\"corchete-llamada\">[</span>62<span class=\"corchete-llamada\">]</span></a></sup>​</td>\n",
      "<td>Best Actor</td>\n",
      "<td rowspan=\"\" style=\"background-color:#99FF99;color:black; text-align:center; vertical-align:middle;\">Ganador\n",
      "</td></tr>\n",
      "<tr>\n",
      "<td>2008</td>\n",
      "<td><i><a href=\"/wiki/Doctor_Who\" title=\"Doctor Who\">Doctor Who</a></i></td>\n",
      "<td><a class=\"new\" href=\"/w/index.php?title=National_Television_Award&amp;action=edit&amp;redlink=1\" title=\"National Television Award (aún no redactado)\">National Television Award</a><sup class=\"reference separada\" id=\"cite_ref-63\"><a href=\"#cite_note-63\"><span class=\"corchete-llamada\">[</span>63<span class=\"corchete-llamada\">]</span></a></sup>​</td>\n",
      "<td>Outstanding Drama Performance</td>\n",
      "<td rowspan=\"\" style=\"background-color:#99FF99;color:black; text-align:center; vertical-align:middle;\">Ganador\n",
      "</td></tr>\n",
      "<tr>\n",
      "<td>2008</td>\n",
      "<td><i><a href=\"/wiki/Doctor_Who\" title=\"Doctor Who\">Doctor Who</a></i></td>\n",
      "<td><a href=\"/wiki/Premios_Satellite\" title=\"Premios Satellite\">Premios Satellite</a><sup class=\"reference separada\" id=\"cite_ref-64\"><a href=\"#cite_note-64\"><span class=\"corchete-llamada\">[</span>64<span class=\"corchete-llamada\">]</span></a></sup>​</td>\n",
      "<td><a class=\"new\" href=\"/w/index.php?title=Satellite_Award_for_Best_Actor_-_Television_Series_Drama&amp;action=edit&amp;redlink=1\" title=\"Satellite Award for Best Actor - Television Series Drama (aún no redactado)\">Best Actor in a Drama Series</a></td>\n",
      "<td rowspan=\"\" style=\"background-color:#fdd;color:black; text-align:center; vertical-align:middle;\">Nominado\n",
      "</td></tr>\n",
      "<tr>\n",
      "<td>2008</td>\n",
      "<td><i><a class=\"new\" href=\"/w/index.php?title=Recovery_(TV_drama)&amp;action=edit&amp;redlink=1\" title=\"Recovery (TV drama) (aún no redactado)\">Recovery</a></i> y <i><a href=\"/wiki/Doctor_Who\" title=\"Doctor Who\">Doctor Who</a></i></td>\n",
      "<td><a href=\"/wiki/Royal_Television_Society\" title=\"Royal Television Society\">Royal Television Society</a> Programme Award<sup class=\"reference separada\" id=\"cite_ref-65\"><a href=\"#cite_note-65\"><span class=\"corchete-llamada\">[</span>65<span class=\"corchete-llamada\">]</span></a></sup>​</td>\n",
      "<td>Best Actor</td>\n",
      "<td rowspan=\"\" style=\"background-color:#fdd;color:black; text-align:center; vertical-align:middle;\">Nominado\n",
      "</td></tr>\n",
      "<tr>\n",
      "<td>2009</td>\n",
      "<td><i><a href=\"/wiki/Hamlet\" title=\"Hamlet\">Hamlet</a></i></td>\n",
      "<td><a class=\"new\" href=\"/w/index.php?title=Critics%27_Circle_Theatre_Award&amp;action=edit&amp;redlink=1\" title=\"Critics' Circle Theatre Award (aún no redactado)\">Critics' Circle Theatre Award</a><sup class=\"reference separada\" id=\"cite_ref-66\"><a href=\"#cite_note-66\"><span class=\"corchete-llamada\">[</span>66<span class=\"corchete-llamada\">]</span></a></sup>​</td>\n",
      "<td>Mejor representación de Shakespeare</td>\n",
      "<td rowspan=\"\" style=\"background-color:#99FF99;color:black; text-align:center; vertical-align:middle;\">Ganador\n",
      "</td></tr>\n",
      "<tr>\n",
      "<td>2009</td>\n",
      "<td><i><a href=\"/wiki/Hamlet\" title=\"Hamlet\">Hamlet</a></i></td>\n",
      "<td>Theatregoers' Choice Awards<sup class=\"reference separada\" id=\"cite_ref-67\"><a href=\"#cite_note-67\"><span class=\"corchete-llamada\">[</span>67<span class=\"corchete-llamada\">]</span></a></sup>​<sup class=\"reference separada\" id=\"cite_ref-68\"><a href=\"#cite_note-68\"><span class=\"corchete-llamada\">[</span>68<span class=\"corchete-llamada\">]</span></a></sup>​</td>\n",
      "<td>AKA Theatre Event of the Year</td>\n",
      "<td rowspan=\"\" style=\"background-color:#99FF99;color:black; text-align:center; vertical-align:middle;\">Ganador\n",
      "</td></tr>\n",
      "<tr>\n",
      "<td>2009</td>\n",
      "<td><i><a href=\"/wiki/Hamlet\" title=\"Hamlet\">Hamlet</a></i></td>\n",
      "<td><a class=\"new\" href=\"/w/index.php?title=2009_Evening_Standard_Theatre_Awards&amp;action=edit&amp;redlink=1\" title=\"2009 Evening Standard Theatre Awards (aún no redactado)\">Premio Standard Theatre</a><sup class=\"reference separada\" id=\"cite_ref-69\"><a href=\"#cite_note-69\"><span class=\"corchete-llamada\">[</span>69<span class=\"corchete-llamada\">]</span></a></sup>​</td>\n",
      "<td>Best Actor</td>\n",
      "<td rowspan=\"\" style=\"background-color:#fdd;color:black; text-align:center; vertical-align:middle;\">Nominado\n",
      "</td></tr>\n",
      "<tr>\n",
      "<td>2009</td>\n",
      "<td><i><a class=\"new\" href=\"/w/index.php?title=Einstein_and_Eddington&amp;action=edit&amp;redlink=1\" title=\"Einstein and Eddington (aún no redactado)\">Einstein and Eddington</a></i> y <i><a href=\"/wiki/Doctor_Who\" title=\"Doctor Who\">Doctor Who</a></i></td>\n",
      "<td>Broadcasting Press Guild<sup class=\"reference separada\" id=\"cite_ref-70\"><a href=\"#cite_note-70\"><span class=\"corchete-llamada\">[</span>70<span class=\"corchete-llamada\">]</span></a></sup>​</td>\n",
      "<td>Best Actor</td>\n",
      "<td rowspan=\"\" style=\"background-color:#fdd;color:black; text-align:center; vertical-align:middle;\">Nominado\n",
      "</td></tr>\n",
      "<tr>\n",
      "<td>2009</td>\n",
      "<td><i><a href=\"/wiki/Doctor_Who\" title=\"Doctor Who\">Doctor Who</a></i></td>\n",
      "<td><a class=\"new\" href=\"/w/index.php?title=BAFTA_Scotland&amp;action=edit&amp;redlink=1\" title=\"BAFTA Scotland (aún no redactado)\">BAFTA Scotland</a><sup class=\"reference separada\" id=\"cite_ref-71\"><a href=\"#cite_note-71\"><span class=\"corchete-llamada\">[</span>71<span class=\"corchete-llamada\">]</span></a></sup>​<sup class=\"reference separada\" id=\"cite_ref-72\"><a href=\"#cite_note-72\"><span class=\"corchete-llamada\">[</span>72<span class=\"corchete-llamada\">]</span></a></sup>​</td>\n",
      "<td>Acting Performance in TV (Male)</td>\n",
      "<td rowspan=\"\" style=\"background-color:#fdd;color:black; text-align:center; vertical-align:middle;\">Nominado\n",
      "</td></tr>\n",
      "<tr>\n",
      "<td>2009</td>\n",
      "<td><i><a href=\"/wiki/Doctor_Who\" title=\"Doctor Who\">Doctor Who</a></i></td>\n",
      "<td><a class=\"mw-redirect\" href=\"/wiki/Premio_Saturn\" title=\"Premio Saturn\">Premio Saturn</a><sup class=\"reference separada\" id=\"cite_ref-73\"><a href=\"#cite_note-73\"><span class=\"corchete-llamada\">[</span>73<span class=\"corchete-llamada\">]</span></a></sup>​</td>\n",
      "<td><a class=\"new\" href=\"/w/index.php?title=Saturn_Award_for_Best_Actor_on_Television&amp;action=edit&amp;redlink=1\" title=\"Saturn Award for Best Actor on Television (aún no redactado)\">Best Actor on Television</a></td>\n",
      "<td rowspan=\"\" style=\"background-color:#fdd;color:black; text-align:center; vertical-align:middle;\">Nominado\n",
      "</td></tr>\n",
      "<tr>\n",
      "<td>2010</td>\n",
      "<td><i><a href=\"/wiki/Doctor_Who\" title=\"Doctor Who\">Doctor Who</a></i></td>\n",
      "<td>Premio Nacional de Televisión<sup class=\"reference separada\" id=\"cite_ref-74\"><a href=\"#cite_note-74\"><span class=\"corchete-llamada\">[</span>74<span class=\"corchete-llamada\">]</span></a></sup>​</td>\n",
      "<td>Outstanding Drama Performance</td>\n",
      "<td rowspan=\"\" style=\"background-color:#99FF99;color:black; text-align:center; vertical-align:middle;\">Ganador\n",
      "</td></tr>\n",
      "<tr>\n",
      "<td>2010</td>\n",
      "<td><i><a href=\"/wiki/Doctor_Who\" title=\"Doctor Who\">Doctor Who</a></i></td>\n",
      "<td>Premio Constellation<sup class=\"reference separada\" id=\"cite_ref-75\"><a href=\"#cite_note-75\"><span class=\"corchete-llamada\">[</span>75<span class=\"corchete-llamada\">]</span></a></sup>​</td>\n",
      "<td>Best Male Performance in a 2009 Science Fiction Television Episode</td>\n",
      "<td rowspan=\"\" style=\"background-color:#99FF99;color:black; text-align:center; vertical-align:middle;\">Ganador\n",
      "</td></tr>\n",
      "<tr>\n",
      "<td>2010</td>\n",
      "<td><i><a href=\"/wiki/Hamlet\" title=\"Hamlet\">Hamlet</a></i> y <i><a href=\"/wiki/Doctor_Who\" title=\"Doctor Who\">Doctor Who</a></i></td>\n",
      "<td>Broadcasting Press Guild<sup class=\"reference separada\" id=\"cite_ref-76\"><a href=\"#cite_note-76\"><span class=\"corchete-llamada\">[</span>76<span class=\"corchete-llamada\">]</span></a></sup>​</td>\n",
      "<td>Best Actor</td>\n",
      "<td rowspan=\"\" style=\"background-color:#fdd;color:black; text-align:center; vertical-align:middle;\">Nominado\n",
      "</td></tr>\n",
      "<tr>\n",
      "<td>2011</td>\n",
      "<td><i><a class=\"new\" href=\"/w/index.php?title=Single_Father_(serie_de_televisi%C3%B3n)&amp;action=edit&amp;redlink=1\" title=\"Single Father (serie de televisión) (aún no redactado)\">Single Father</a></i></td>\n",
      "<td>Premio TV Choice<sup class=\"reference separada\" id=\"cite_ref-77\"><a href=\"#cite_note-77\"><span class=\"corchete-llamada\">[</span>77<span class=\"corchete-llamada\">]</span></a></sup>​</td>\n",
      "<td>Best Actor</td>\n",
      "<td rowspan=\"\" style=\"background-color:#99FF99;color:black; text-align:center; vertical-align:middle;\">Ganador\n",
      "</td></tr>\n",
      "<tr>\n",
      "<td>2011</td>\n",
      "<td><i><a class=\"new\" href=\"/w/index.php?title=Single_Father_(serie_de_televisi%C3%B3n)&amp;action=edit&amp;redlink=1\" title=\"Single Father (serie de televisión) (aún no redactado)\">Single Father</a></i></td>\n",
      "<td>Royal Television Society Programme Awards<sup class=\"reference separada\" id=\"cite_ref-78\"><a href=\"#cite_note-78\"><span class=\"corchete-llamada\">[</span>78<span class=\"corchete-llamada\">]</span></a></sup>​</td>\n",
      "<td>Best Actor</td>\n",
      "<td rowspan=\"\" style=\"background-color:#fdd;color:black; text-align:center; vertical-align:middle;\">Nominado\n",
      "</td></tr>\n",
      "<tr>\n",
      "<td>2011</td>\n",
      "<td><i><a class=\"mw-redirect\" href=\"/wiki/Much_Ado_About_Nothing\" title=\"Much Ado About Nothing\">Much Ado About Nothing</a></i></td>\n",
      "<td>BroadwayWorld UK Awards<sup class=\"reference separada\" id=\"cite_ref-BWWUK2011_79-0\"><a href=\"#cite_note-BWWUK2011-79\"><span class=\"corchete-llamada\">[</span>79<span class=\"corchete-llamada\">]</span></a></sup>​</td>\n",
      "<td>Best Actor</td>\n",
      "<td rowspan=\"\" style=\"background-color:#99FF99;color:black; text-align:center; vertical-align:middle;\">Ganador\n",
      "</td></tr>\n",
      "<tr>\n",
      "<td>2012</td>\n",
      "<td><i>Kafka: The Musical</i></td>\n",
      "<td><a class=\"new\" href=\"/w/index.php?title=BBC_Audio_Drama_Awards&amp;action=edit&amp;redlink=1\" title=\"BBC Audio Drama Awards (aún no redactado)\">BBC Audio Drama Awards</a><sup class=\"reference separada\" id=\"cite_ref-80\"><a href=\"#cite_note-80\"><span class=\"corchete-llamada\">[</span>80<span class=\"corchete-llamada\">]</span></a></sup>​</td>\n",
      "<td>Best Actor</td>\n",
      "<td rowspan=\"\" style=\"background-color:#99FF99;color:black; text-align:center; vertical-align:middle;\">Ganador\n",
      "</td></tr>\n",
      "<tr>\n",
      "<td>2012</td>\n",
      "<td><i><a class=\"mw-redirect\" href=\"/wiki/Much_Ado_About_Nothing\" title=\"Much Ado About Nothing\">Much Ado About Nothing</a></i></td>\n",
      "<td>What's on Stage Awards<sup class=\"reference separada\" id=\"cite_ref-81\"><a href=\"#cite_note-81\"><span class=\"corchete-llamada\">[</span>81<span class=\"corchete-llamada\">]</span></a></sup>​</td>\n",
      "<td>Best Actor</td>\n",
      "<td rowspan=\"\" style=\"background-color:#fdd;color:black; text-align:center; vertical-align:middle;\">Nominado\n",
      "</td></tr>\n",
      "<tr>\n",
      "<td>2012</td>\n",
      "<td><a href=\"/wiki/Star_Wars:_The_Clone_Wars_(serie_de_televisi%C3%B3n_de_2008)\" title=\"Star Wars: The Clone Wars (serie de televisión de 2008)\">Star Wars: The Clone Wars</a></td>\n",
      "<td><a class=\"new\" href=\"/w/index.php?title=40th_Daytime_Emmy_Awards&amp;action=edit&amp;redlink=1\" title=\"40th Daytime Emmy Awards (aún no redactado)\">40th Daytime Emmy Awards</a><sup class=\"reference separada\" id=\"cite_ref-82\"><a href=\"#cite_note-82\"><span class=\"corchete-llamada\">[</span>82<span class=\"corchete-llamada\">]</span></a></sup>​</td>\n",
      "<td><a class=\"new\" href=\"/w/index.php?title=Daytime_Emmy_Award_for_Outstanding_Performer_In_An_Animated_Program&amp;action=edit&amp;redlink=1\" title=\"Daytime Emmy Award for Outstanding Performer In An Animated Program (aún no redactado)\">Outstanding Performer in an Animated Program</a></td>\n",
      "<td rowspan=\"\" style=\"background-color:#99FF99;color:black; text-align:center; vertical-align:middle;\">Ganador\n",
      "</td></tr>\n",
      "<tr>\n",
      "<td>2013</td>\n",
      "<td><i><a href=\"/wiki/Broadchurch\" title=\"Broadchurch\">Broadchurch</a></i></td>\n",
      "<td>Premio TV Choice<sup class=\"reference separada\" id=\"cite_ref-83\"><a href=\"#cite_note-83\"><span class=\"corchete-llamada\">[</span>83<span class=\"corchete-llamada\">]</span></a></sup>​</td>\n",
      "<td>Best Actor</td>\n",
      "<td rowspan=\"\" style=\"background-color:#99FF99;color:black; text-align:center; vertical-align:middle;\">Ganador\n",
      "</td></tr>\n",
      "<tr>\n",
      "<td>2014</td>\n",
      "<td><i><a href=\"/wiki/Broadchurch\" title=\"Broadchurch\">Broadchurch</a></i></td>\n",
      "<td>Premio Nacional de Televisión<sup class=\"reference separada\" id=\"cite_ref-84\"><a href=\"#cite_note-84\"><span class=\"corchete-llamada\">[</span>84<span class=\"corchete-llamada\">]</span></a></sup>​</td>\n",
      "<td>Best TV Detective</td>\n",
      "<td rowspan=\"\" style=\"background-color:#fdd;color:black; text-align:center; vertical-align:middle;\">Nominado\n",
      "</td></tr>\n",
      "<tr>\n",
      "<td>2014</td>\n",
      "<td><i><a href=\"/wiki/Broadchurch\" title=\"Broadchurch\">Broadchurch</a></i></td>\n",
      "<td><a class=\"new\" href=\"/w/index.php?title=Broadcasting_Press_Guild&amp;action=edit&amp;redlink=1\" title=\"Broadcasting Press Guild (aún no redactado)\">Broadcasting Press Guild Television and Radio Awards</a><sup class=\"reference separada\" id=\"cite_ref-85\"><a href=\"#cite_note-85\"><span class=\"corchete-llamada\">[</span>85<span class=\"corchete-llamada\">]</span></a></sup>​</td>\n",
      "<td>Best Actor</td>\n",
      "<td rowspan=\"\" style=\"background-color:#fdd;color:black; text-align:center; vertical-align:middle;\">Nominado\n",
      "</td></tr>\n",
      "<tr>\n",
      "<td>2014</td>\n",
      "<td><i><a class=\"new\" href=\"/w/index.php?title=The_Escape_Artist_(serie_de_televisi%C3%B3n)&amp;action=edit&amp;redlink=1\" title=\"The Escape Artist (serie de televisión) (aún no redactado)\">The Escape Artist (serie de televisión)</a></i></td>\n",
      "<td><a class=\"new\" href=\"/w/index.php?title=BAFTA_Scotland&amp;action=edit&amp;redlink=1\" title=\"BAFTA Scotland (aún no redactado)\">BAFTA Scotland</a><sup class=\"reference separada\" id=\"cite_ref-86\"><a href=\"#cite_note-86\"><span class=\"corchete-llamada\">[</span>86<span class=\"corchete-llamada\">]</span></a></sup>​</td>\n",
      "<td>Acting Performance in TV (Male)</td>\n",
      "<td rowspan=\"\" style=\"background-color:#99FF99;color:black; text-align:center; vertical-align:middle;\">Ganador\n",
      "</td></tr>\n",
      "<tr>\n",
      "<td>2015</td>\n",
      "<td><i><a href=\"/wiki/Gracepoint\" title=\"Gracepoint\">Gracepoint</a></i></td>\n",
      "<td><a class=\"new\" href=\"/w/index.php?title=41st_People%27s_Choice_Awards&amp;action=edit&amp;redlink=1\" title=\"41st People's Choice Awards (aún no redactado)\">41st People's Choice Awards</a><sup class=\"reference separada\" id=\"cite_ref-87\"><a href=\"#cite_note-87\"><span class=\"corchete-llamada\">[</span>87<span class=\"corchete-llamada\">]</span></a></sup>​</td>\n",
      "<td>Favorite Actor In A New TV Series</td>\n",
      "<td rowspan=\"\" style=\"background-color:#99FF99;color:black; text-align:center; vertical-align:middle;\">Ganador\n",
      "</td></tr>\n",
      "<tr>\n",
      "<td>2015</td>\n",
      "<td><i>-</i></td>\n",
      "<td><a href=\"/wiki/National_Television_Awards\" title=\"National Television Awards\">National Television Awards</a><sup class=\"reference separada\" id=\"cite_ref-88\"><a href=\"#cite_note-88\"><span class=\"corchete-llamada\">[</span>88<span class=\"corchete-llamada\">]</span></a></sup>​</td>\n",
      "<td>Special Recognition Award</td>\n",
      "<td rowspan=\"\" style=\"background-color:#99FF99;color:black; text-align:center; vertical-align:middle;\">Ganador\n",
      "</td></tr></tbody></table>\n"
     ]
    }
   ],
   "source": [
    "print(awards_table)"
   ]
  },
  {
   "cell_type": "markdown",
   "metadata": {},
   "source": [
    "Ya hemos accedido a la tabla que queremos que tiene todo el html y sus respectivos hijos de donde podremos sacar la información"
   ]
  },
  {
   "cell_type": "code",
   "execution_count": 43,
   "metadata": {},
   "outputs": [
    {
     "name": "stdout",
     "output_type": "stream",
     "text": [
      "['Año\\n', 'Trabajo\\n', 'Premio\\n', 'Categoría\\n', 'Resultado\\n']\n"
     ]
    }
   ],
   "source": [
    "headers=awards_table.findAll(\"th\")\n",
    "columns=[]\n",
    "for header in headers:\n",
    "    columns.append(header.text)\n",
    "print(columns)"
   ]
  },
  {
   "cell_type": "markdown",
   "metadata": {},
   "source": [
    "Quitamos el salto de línea al final del nombre de las columnas"
   ]
  },
  {
   "cell_type": "code",
   "execution_count": 44,
   "metadata": {},
   "outputs": [
    {
     "name": "stdout",
     "output_type": "stream",
     "text": [
      "['Año', 'Trabajo', 'Premio', 'Categoría', 'Resultado']\n"
     ]
    }
   ],
   "source": [
    "for i,column in enumerate(columns):\n",
    "    columns[i]=column[:-1]\n",
    "print(columns)"
   ]
  },
  {
   "cell_type": "markdown",
   "metadata": {},
   "source": [
    "Creamos el dataframe con las columnas"
   ]
  },
  {
   "cell_type": "code",
   "execution_count": 80,
   "metadata": {},
   "outputs": [],
   "source": [
    "df=pd.DataFrame(columns=columns)"
   ]
  },
  {
   "cell_type": "markdown",
   "metadata": {},
   "source": [
    "Cogeremos las filas de la tabla para el contenido"
   ]
  },
  {
   "cell_type": "code",
   "execution_count": 46,
   "metadata": {},
   "outputs": [],
   "source": [
    "rows=awards_table.findAll(\"tr\")"
   ]
  },
  {
   "cell_type": "code",
   "execution_count": 47,
   "metadata": {},
   "outputs": [
    {
     "data": {
      "text/plain": [
       "<tr>\n",
       "<th>Año\n",
       "</th>\n",
       "<th>Trabajo\n",
       "</th>\n",
       "<th>Premio\n",
       "</th>\n",
       "<th>Categoría\n",
       "</th>\n",
       "<th>Resultado\n",
       "</th></tr>"
      ]
     },
     "execution_count": 47,
     "metadata": {},
     "output_type": "execute_result"
    }
   ],
   "source": [
    "rows[0]"
   ]
  },
  {
   "cell_type": "markdown",
   "metadata": {},
   "source": [
    "Eliminaremos la primera fila, que contiene los encabezados"
   ]
  },
  {
   "cell_type": "code",
   "execution_count": 48,
   "metadata": {},
   "outputs": [],
   "source": [
    "rows=rows[1:]"
   ]
  },
  {
   "cell_type": "code",
   "execution_count": 32,
   "metadata": {},
   "outputs": [
    {
     "data": {
      "text/plain": [
       "<tr>\n",
       "<td>1995</td>\n",
       "<td><i>An Experienced Woman Gives Advice</i></td>\n",
       "<td>Premio de Teatro Manchester Evening News<sup class=\"reference separada\" id=\"cite_ref-48\"><a href=\"#cite_note-48\"><span class=\"corchete-llamada\">[</span>48<span class=\"corchete-llamada\">]</span></a></sup>​</td>\n",
       "<td>Mejor Actor</td>\n",
       "<td rowspan=\"\" style=\"background-color:#fdd;color:black; text-align:center; vertical-align:middle;\">Nominado\n",
       "</td></tr>"
      ]
     },
     "execution_count": 32,
     "metadata": {},
     "output_type": "execute_result"
    }
   ],
   "source": [
    "rows[0]"
   ]
  },
  {
   "cell_type": "markdown",
   "metadata": {},
   "source": [
    "Recorreremos las filas con sus respectivas celdas e iremos llenando el dataframe"
   ]
  },
  {
   "cell_type": "code",
   "execution_count": 81,
   "metadata": {},
   "outputs": [],
   "source": [
    "for row in rows:\n",
    "    cells=row.findAll(\"td\")\n",
    "    year=cells[0].text\n",
    "    work=cells[1].text\n",
    "    award=cells[2].text\n",
    "    category=cells[3].text\n",
    "    result=cells[4].text\n",
    "    df=pd.concat([df, pd.DataFrame([{'Año': year, 'Trabajo' : work, 'Premio' : award, 'Categoría': category, 'Resultado' : result}])])\n",
    "    "
   ]
  },
  {
   "cell_type": "code",
   "execution_count": 82,
   "metadata": {},
   "outputs": [
    {
     "data": {
      "text/html": [
       "<div>\n",
       "<style scoped>\n",
       "    .dataframe tbody tr th:only-of-type {\n",
       "        vertical-align: middle;\n",
       "    }\n",
       "\n",
       "    .dataframe tbody tr th {\n",
       "        vertical-align: top;\n",
       "    }\n",
       "\n",
       "    .dataframe thead th {\n",
       "        text-align: right;\n",
       "    }\n",
       "</style>\n",
       "<table border=\"1\" class=\"dataframe\">\n",
       "  <thead>\n",
       "    <tr style=\"text-align: right;\">\n",
       "      <th></th>\n",
       "      <th>Año</th>\n",
       "      <th>Trabajo</th>\n",
       "      <th>Premio</th>\n",
       "      <th>Categoría</th>\n",
       "      <th>Resultado</th>\n",
       "    </tr>\n",
       "  </thead>\n",
       "  <tbody>\n",
       "    <tr>\n",
       "      <th>0</th>\n",
       "      <td>1995</td>\n",
       "      <td>An Experienced Woman Gives Advice</td>\n",
       "      <td>Premio de Teatro Manchester Evening News[48]​</td>\n",
       "      <td>Mejor Actor</td>\n",
       "      <td>Nominado\\n</td>\n",
       "    </tr>\n",
       "    <tr>\n",
       "      <th>0</th>\n",
       "      <td>1996</td>\n",
       "      <td>The Glass Menagerie</td>\n",
       "      <td>Theatre Management Association[49]​</td>\n",
       "      <td>Mejor Actor</td>\n",
       "      <td>Nominado\\n</td>\n",
       "    </tr>\n",
       "    <tr>\n",
       "      <th>0</th>\n",
       "      <td>2000</td>\n",
       "      <td>The Comedy of Errors</td>\n",
       "      <td>Premio Ian Charleson[50]​</td>\n",
       "      <td>Best Classical Actor Under 30</td>\n",
       "      <td>Nominado\\n</td>\n",
       "    </tr>\n",
       "    <tr>\n",
       "      <th>0</th>\n",
       "      <td>2003</td>\n",
       "      <td>Lobby Hero</td>\n",
       "      <td>Premio Olivier[51]​</td>\n",
       "      <td>Mejor Actor</td>\n",
       "      <td>Nominado\\n</td>\n",
       "    </tr>\n",
       "    <tr>\n",
       "      <th>0</th>\n",
       "      <td>2005</td>\n",
       "      <td>Look Back in Anger</td>\n",
       "      <td>Critics' Awards for Theatre in Scotland[52]​</td>\n",
       "      <td>Best Male Performance</td>\n",
       "      <td>Ganador\\n</td>\n",
       "    </tr>\n",
       "  </tbody>\n",
       "</table>\n",
       "</div>"
      ],
      "text/plain": [
       "    Año                            Trabajo  \\\n",
       "0  1995  An Experienced Woman Gives Advice   \n",
       "0  1996                The Glass Menagerie   \n",
       "0  2000               The Comedy of Errors   \n",
       "0  2003                         Lobby Hero   \n",
       "0  2005                 Look Back in Anger   \n",
       "\n",
       "                                          Premio  \\\n",
       "0  Premio de Teatro Manchester Evening News[48]​   \n",
       "0            Theatre Management Association[49]​   \n",
       "0                      Premio Ian Charleson[50]​   \n",
       "0                            Premio Olivier[51]​   \n",
       "0   Critics' Awards for Theatre in Scotland[52]​   \n",
       "\n",
       "                       Categoría   Resultado  \n",
       "0                    Mejor Actor  Nominado\\n  \n",
       "0                    Mejor Actor  Nominado\\n  \n",
       "0  Best Classical Actor Under 30  Nominado\\n  \n",
       "0                    Mejor Actor  Nominado\\n  \n",
       "0          Best Male Performance   Ganador\\n  "
      ]
     },
     "execution_count": 82,
     "metadata": {},
     "output_type": "execute_result"
    }
   ],
   "source": [
    "df.head()"
   ]
  },
  {
   "cell_type": "markdown",
   "metadata": {},
   "source": [
    "Eliminamos el número de nota al pie al final de la columna premio y el salto de línea al final de la columna resultado"
   ]
  },
  {
   "cell_type": "code",
   "execution_count": 83,
   "metadata": {},
   "outputs": [],
   "source": [
    "df['Premio']=df['Premio'].str.extract('^(.*?)(?=\\[)')\n",
    "df['Resultado']=df['Resultado'].str.extract('^(\\w+)')"
   ]
  },
  {
   "cell_type": "code",
   "execution_count": 84,
   "metadata": {},
   "outputs": [
    {
     "data": {
      "text/html": [
       "<div>\n",
       "<style scoped>\n",
       "    .dataframe tbody tr th:only-of-type {\n",
       "        vertical-align: middle;\n",
       "    }\n",
       "\n",
       "    .dataframe tbody tr th {\n",
       "        vertical-align: top;\n",
       "    }\n",
       "\n",
       "    .dataframe thead th {\n",
       "        text-align: right;\n",
       "    }\n",
       "</style>\n",
       "<table border=\"1\" class=\"dataframe\">\n",
       "  <thead>\n",
       "    <tr style=\"text-align: right;\">\n",
       "      <th></th>\n",
       "      <th>Año</th>\n",
       "      <th>Trabajo</th>\n",
       "      <th>Premio</th>\n",
       "      <th>Categoría</th>\n",
       "      <th>Resultado</th>\n",
       "    </tr>\n",
       "  </thead>\n",
       "  <tbody>\n",
       "    <tr>\n",
       "      <th>0</th>\n",
       "      <td>1995</td>\n",
       "      <td>An Experienced Woman Gives Advice</td>\n",
       "      <td>Premio de Teatro Manchester Evening News</td>\n",
       "      <td>Mejor Actor</td>\n",
       "      <td>Nominado</td>\n",
       "    </tr>\n",
       "    <tr>\n",
       "      <th>0</th>\n",
       "      <td>1996</td>\n",
       "      <td>The Glass Menagerie</td>\n",
       "      <td>Theatre Management Association</td>\n",
       "      <td>Mejor Actor</td>\n",
       "      <td>Nominado</td>\n",
       "    </tr>\n",
       "    <tr>\n",
       "      <th>0</th>\n",
       "      <td>2000</td>\n",
       "      <td>The Comedy of Errors</td>\n",
       "      <td>Premio Ian Charleson</td>\n",
       "      <td>Best Classical Actor Under 30</td>\n",
       "      <td>Nominado</td>\n",
       "    </tr>\n",
       "    <tr>\n",
       "      <th>0</th>\n",
       "      <td>2003</td>\n",
       "      <td>Lobby Hero</td>\n",
       "      <td>Premio Olivier</td>\n",
       "      <td>Mejor Actor</td>\n",
       "      <td>Nominado</td>\n",
       "    </tr>\n",
       "    <tr>\n",
       "      <th>0</th>\n",
       "      <td>2005</td>\n",
       "      <td>Look Back in Anger</td>\n",
       "      <td>Critics' Awards for Theatre in Scotland</td>\n",
       "      <td>Best Male Performance</td>\n",
       "      <td>Ganador</td>\n",
       "    </tr>\n",
       "  </tbody>\n",
       "</table>\n",
       "</div>"
      ],
      "text/plain": [
       "    Año                            Trabajo  \\\n",
       "0  1995  An Experienced Woman Gives Advice   \n",
       "0  1996                The Glass Menagerie   \n",
       "0  2000               The Comedy of Errors   \n",
       "0  2003                         Lobby Hero   \n",
       "0  2005                 Look Back in Anger   \n",
       "\n",
       "                                     Premio                      Categoría  \\\n",
       "0  Premio de Teatro Manchester Evening News                    Mejor Actor   \n",
       "0            Theatre Management Association                    Mejor Actor   \n",
       "0                      Premio Ian Charleson  Best Classical Actor Under 30   \n",
       "0                            Premio Olivier                    Mejor Actor   \n",
       "0   Critics' Awards for Theatre in Scotland          Best Male Performance   \n",
       "\n",
       "  Resultado  \n",
       "0  Nominado  \n",
       "0  Nominado  \n",
       "0  Nominado  \n",
       "0  Nominado  \n",
       "0   Ganador  "
      ]
     },
     "execution_count": 84,
     "metadata": {},
     "output_type": "execute_result"
    }
   ],
   "source": [
    "df.head()"
   ]
  },
  {
   "cell_type": "markdown",
   "metadata": {},
   "source": [
    "Ya tenemos nuestro dataframe listo para ser almacenado en un csv"
   ]
  },
  {
   "cell_type": "code",
   "execution_count": 85,
   "metadata": {},
   "outputs": [],
   "source": [
    "df.to_csv(\"bs_david_tennant.csv\")"
   ]
  },
  {
   "cell_type": "markdown",
   "metadata": {},
   "source": [
    "A continuación repetiremos el proceso con Selenium. \n",
    "\n",
    "Primero abrimos el navegador con la url del artículo de wikipedia sobre David Tennant"
   ]
  },
  {
   "cell_type": "code",
   "execution_count": 98,
   "metadata": {},
   "outputs": [],
   "source": [
    "url=\"https://es.wikipedia.org/wiki/David_Tennant\"\n",
    "opts = Options()\n",
    "opts.add_argument('-headless=new')\n",
    "browser = Firefox(options=opts)\n",
    "browser.get(url)"
   ]
  },
  {
   "cell_type": "markdown",
   "metadata": {},
   "source": [
    "Encontramos primero todas las tablas y luego en concreto la de premios."
   ]
  },
  {
   "cell_type": "code",
   "execution_count": 99,
   "metadata": {},
   "outputs": [],
   "source": [
    "tables=browser.find_elements(By.CLASS_NAME, 'wikitable')"
   ]
  },
  {
   "cell_type": "code",
   "execution_count": 100,
   "metadata": {},
   "outputs": [],
   "source": [
    "awards_table=tables[4]"
   ]
  },
  {
   "cell_type": "markdown",
   "metadata": {},
   "source": [
    "Leemos los cabeceros de la tabla y los usamos como columnas para el dataframe."
   ]
  },
  {
   "cell_type": "code",
   "execution_count": 101,
   "metadata": {},
   "outputs": [
    {
     "name": "stdout",
     "output_type": "stream",
     "text": [
      "['Año', 'Trabajo', 'Premio', 'Categoría', 'Resultado']\n"
     ]
    }
   ],
   "source": [
    "headers=awards_table.find_elements(By.TAG_NAME, \"th\")\n",
    "columns=[]\n",
    "for header in headers:\n",
    "    columns.append(header.text)\n",
    "print(columns)"
   ]
  },
  {
   "cell_type": "code",
   "execution_count": 102,
   "metadata": {},
   "outputs": [],
   "source": [
    "df=pd.DataFrame(columns=columns)"
   ]
  },
  {
   "cell_type": "markdown",
   "metadata": {},
   "source": [
    "Localizamos todas las filas de la tabla y eliminamos la primera (cabecera)"
   ]
  },
  {
   "cell_type": "code",
   "execution_count": 103,
   "metadata": {},
   "outputs": [],
   "source": [
    "rows=awards_table.find_elements(By.TAG_NAME, \"tr\")\n",
    "rows=rows[1:]"
   ]
  },
  {
   "cell_type": "markdown",
   "metadata": {},
   "source": [
    "Recorremos las filas y llenamos el dataframe y cerramos el navegador."
   ]
  },
  {
   "cell_type": "code",
   "execution_count": 106,
   "metadata": {},
   "outputs": [],
   "source": [
    "for row in rows:\n",
    "    cells=row.find_elements(By.TAG_NAME, \"td\")\n",
    "    year=cells[0].text\n",
    "    work=cells[1].text\n",
    "    award=cells[2].text\n",
    "    category=cells[3].text\n",
    "    result=cells[4].text\n",
    "    df=pd.concat([df, pd.DataFrame([{'Año': year, 'Trabajo' : work, 'Premio' : award, 'Categoría': category, 'Resultado' : result}])])\n",
    "browser.quit()   "
   ]
  },
  {
   "cell_type": "code",
   "execution_count": 107,
   "metadata": {},
   "outputs": [
    {
     "data": {
      "text/html": [
       "<div>\n",
       "<style scoped>\n",
       "    .dataframe tbody tr th:only-of-type {\n",
       "        vertical-align: middle;\n",
       "    }\n",
       "\n",
       "    .dataframe tbody tr th {\n",
       "        vertical-align: top;\n",
       "    }\n",
       "\n",
       "    .dataframe thead th {\n",
       "        text-align: right;\n",
       "    }\n",
       "</style>\n",
       "<table border=\"1\" class=\"dataframe\">\n",
       "  <thead>\n",
       "    <tr style=\"text-align: right;\">\n",
       "      <th></th>\n",
       "      <th>Año</th>\n",
       "      <th>Trabajo</th>\n",
       "      <th>Premio</th>\n",
       "      <th>Categoría</th>\n",
       "      <th>Resultado</th>\n",
       "    </tr>\n",
       "  </thead>\n",
       "  <tbody>\n",
       "    <tr>\n",
       "      <th>0</th>\n",
       "      <td>1995</td>\n",
       "      <td>An Experienced Woman Gives Advice</td>\n",
       "      <td>Premio de Teatro Manchester Evening News48</td>\n",
       "      <td>Mejor Actor</td>\n",
       "      <td>Nominado</td>\n",
       "    </tr>\n",
       "    <tr>\n",
       "      <th>0</th>\n",
       "      <td>1996</td>\n",
       "      <td>The Glass Menagerie</td>\n",
       "      <td>Theatre Management Association49</td>\n",
       "      <td>Mejor Actor</td>\n",
       "      <td>Nominado</td>\n",
       "    </tr>\n",
       "    <tr>\n",
       "      <th>0</th>\n",
       "      <td>2000</td>\n",
       "      <td>The Comedy of Errors</td>\n",
       "      <td>Premio Ian Charleson50</td>\n",
       "      <td>Best Classical Actor Under 30</td>\n",
       "      <td>Nominado</td>\n",
       "    </tr>\n",
       "    <tr>\n",
       "      <th>0</th>\n",
       "      <td>2003</td>\n",
       "      <td>Lobby Hero</td>\n",
       "      <td>Premio Olivier51</td>\n",
       "      <td>Mejor Actor</td>\n",
       "      <td>Nominado</td>\n",
       "    </tr>\n",
       "    <tr>\n",
       "      <th>0</th>\n",
       "      <td>2005</td>\n",
       "      <td>Look Back in Anger</td>\n",
       "      <td>Critics' Awards for Theatre in Scotland52</td>\n",
       "      <td>Best Male Performance</td>\n",
       "      <td>Ganador</td>\n",
       "    </tr>\n",
       "  </tbody>\n",
       "</table>\n",
       "</div>"
      ],
      "text/plain": [
       "    Año                            Trabajo  \\\n",
       "0  1995  An Experienced Woman Gives Advice   \n",
       "0  1996                The Glass Menagerie   \n",
       "0  2000               The Comedy of Errors   \n",
       "0  2003                         Lobby Hero   \n",
       "0  2005                 Look Back in Anger   \n",
       "\n",
       "                                       Premio                      Categoría  \\\n",
       "0  Premio de Teatro Manchester Evening News48                    Mejor Actor   \n",
       "0            Theatre Management Association49                    Mejor Actor   \n",
       "0                      Premio Ian Charleson50  Best Classical Actor Under 30   \n",
       "0                            Premio Olivier51                    Mejor Actor   \n",
       "0   Critics' Awards for Theatre in Scotland52          Best Male Performance   \n",
       "\n",
       "  Resultado  \n",
       "0  Nominado  \n",
       "0  Nominado  \n",
       "0  Nominado  \n",
       "0  Nominado  \n",
       "0   Ganador  "
      ]
     },
     "execution_count": 107,
     "metadata": {},
     "output_type": "execute_result"
    }
   ],
   "source": [
    "df.head()"
   ]
  },
  {
   "cell_type": "markdown",
   "metadata": {},
   "source": [
    "Aquí selenium ha quitado las llaves de las notas en la columna 'Premio', pero ha dejado el número. Vamos a quitarlo"
   ]
  },
  {
   "cell_type": "code",
   "execution_count": 108,
   "metadata": {},
   "outputs": [],
   "source": [
    "df['Premio']=df['Premio'].str.extract('^(.*?)(?=[0-9])')"
   ]
  },
  {
   "cell_type": "code",
   "execution_count": 109,
   "metadata": {},
   "outputs": [
    {
     "data": {
      "text/html": [
       "<div>\n",
       "<style scoped>\n",
       "    .dataframe tbody tr th:only-of-type {\n",
       "        vertical-align: middle;\n",
       "    }\n",
       "\n",
       "    .dataframe tbody tr th {\n",
       "        vertical-align: top;\n",
       "    }\n",
       "\n",
       "    .dataframe thead th {\n",
       "        text-align: right;\n",
       "    }\n",
       "</style>\n",
       "<table border=\"1\" class=\"dataframe\">\n",
       "  <thead>\n",
       "    <tr style=\"text-align: right;\">\n",
       "      <th></th>\n",
       "      <th>Año</th>\n",
       "      <th>Trabajo</th>\n",
       "      <th>Premio</th>\n",
       "      <th>Categoría</th>\n",
       "      <th>Resultado</th>\n",
       "    </tr>\n",
       "  </thead>\n",
       "  <tbody>\n",
       "    <tr>\n",
       "      <th>0</th>\n",
       "      <td>1995</td>\n",
       "      <td>An Experienced Woman Gives Advice</td>\n",
       "      <td>Premio de Teatro Manchester Evening News</td>\n",
       "      <td>Mejor Actor</td>\n",
       "      <td>Nominado</td>\n",
       "    </tr>\n",
       "    <tr>\n",
       "      <th>0</th>\n",
       "      <td>1996</td>\n",
       "      <td>The Glass Menagerie</td>\n",
       "      <td>Theatre Management Association</td>\n",
       "      <td>Mejor Actor</td>\n",
       "      <td>Nominado</td>\n",
       "    </tr>\n",
       "    <tr>\n",
       "      <th>0</th>\n",
       "      <td>2000</td>\n",
       "      <td>The Comedy of Errors</td>\n",
       "      <td>Premio Ian Charleson</td>\n",
       "      <td>Best Classical Actor Under 30</td>\n",
       "      <td>Nominado</td>\n",
       "    </tr>\n",
       "    <tr>\n",
       "      <th>0</th>\n",
       "      <td>2003</td>\n",
       "      <td>Lobby Hero</td>\n",
       "      <td>Premio Olivier</td>\n",
       "      <td>Mejor Actor</td>\n",
       "      <td>Nominado</td>\n",
       "    </tr>\n",
       "    <tr>\n",
       "      <th>0</th>\n",
       "      <td>2005</td>\n",
       "      <td>Look Back in Anger</td>\n",
       "      <td>Critics' Awards for Theatre in Scotland</td>\n",
       "      <td>Best Male Performance</td>\n",
       "      <td>Ganador</td>\n",
       "    </tr>\n",
       "  </tbody>\n",
       "</table>\n",
       "</div>"
      ],
      "text/plain": [
       "    Año                            Trabajo  \\\n",
       "0  1995  An Experienced Woman Gives Advice   \n",
       "0  1996                The Glass Menagerie   \n",
       "0  2000               The Comedy of Errors   \n",
       "0  2003                         Lobby Hero   \n",
       "0  2005                 Look Back in Anger   \n",
       "\n",
       "                                     Premio                      Categoría  \\\n",
       "0  Premio de Teatro Manchester Evening News                    Mejor Actor   \n",
       "0            Theatre Management Association                    Mejor Actor   \n",
       "0                      Premio Ian Charleson  Best Classical Actor Under 30   \n",
       "0                            Premio Olivier                    Mejor Actor   \n",
       "0   Critics' Awards for Theatre in Scotland          Best Male Performance   \n",
       "\n",
       "  Resultado  \n",
       "0  Nominado  \n",
       "0  Nominado  \n",
       "0  Nominado  \n",
       "0  Nominado  \n",
       "0   Ganador  "
      ]
     },
     "execution_count": 109,
     "metadata": {},
     "output_type": "execute_result"
    }
   ],
   "source": [
    "df.head()"
   ]
  },
  {
   "cell_type": "markdown",
   "metadata": {},
   "source": [
    "Ya tenemos los datos listos para ser almacenados."
   ]
  },
  {
   "cell_type": "code",
   "execution_count": 110,
   "metadata": {},
   "outputs": [],
   "source": [
    "df.to_csv(\"sel_david_tennant.csv\")"
   ]
  },
  {
   "cell_type": "markdown",
   "metadata": {},
   "source": [
    "### - Exercici 2\n",
    "Documenta en un Word el teu conjunt de dades generat amb la informació que tenen els diferents arxius de Kaggle.\n"
   ]
  },
  {
   "cell_type": "markdown",
   "metadata": {},
   "source": [
    "Ver documento 'Sobre el dataset' disponible en .odt y .pdf"
   ]
  },
  {
   "cell_type": "markdown",
   "metadata": {},
   "source": [
    "### - Exercici 3\n",
    "Tria una pàgina web que tu vulguis i realitza web scraping mitjançant la llibreria Selenium primer i Scrapy després. "
   ]
  },
  {
   "cell_type": "markdown",
   "metadata": {},
   "source": [
    "La web elegida será https://www.autoscout24.es/ ya que mi proyecto tratará sobre el mercado de segunda mano de coches usados.\n",
    "\n",
    "Usaremos sleep entre pasos para simular comportamiento humano"
   ]
  },
  {
   "cell_type": "code",
   "execution_count": 15,
   "metadata": {},
   "outputs": [],
   "source": [
    "url=\"https://www.autoscout24.es/\"\n",
    "opts = Options()\n",
    "opts.add_argument('-headless=new')\n",
    "browser = Firefox(options=opts)\n",
    "browser.get(url)\n",
    "sleep(random.randint(1, 5))"
   ]
  },
  {
   "cell_type": "markdown",
   "metadata": {},
   "source": [
    "Aceptaremos las cookies si es necesario."
   ]
  },
  {
   "cell_type": "code",
   "execution_count": 16,
   "metadata": {},
   "outputs": [],
   "source": [
    "accept_cookies_button=browser.find_element(By.CLASS_NAME, '_consent-accept_1i5cd_111')\n",
    "if accept_cookies_button:\n",
    "    accept_cookies_button.click()\n",
    "sleep(random.randint(1, 5))"
   ]
  },
  {
   "cell_type": "markdown",
   "metadata": {},
   "source": [
    "Hacemos click en el enlace de búsqueda, en principio sin indicarle parámetros de marca-modelo o ubicación."
   ]
  },
  {
   "cell_type": "code",
   "execution_count": 17,
   "metadata": {},
   "outputs": [],
   "source": [
    "search_link=browser.find_element(By.ID, \"search-mask-search-cta\")\n",
    "search_link.click()\n",
    "sleep(random.randint(2, 6))"
   ]
  },
  {
   "cell_type": "markdown",
   "metadata": {},
   "source": [
    "Comprobaremos si el archivo de scrapeo ya existe y lo cargaremos para actualizarlo o si es la primera vez que se hace el scrapeo se crearán los dataframes con las columnas que necesitan antes de entrar a la página de detalle, el resto las creará con los concat. \n",
    "\n",
    "Se ha decidido almacenar las descripciones en un dataset distinto ya que en principio no serán importantes para el análisis y la predicción de precio. Pero podrían llegar a ser procesadas en otro momento, almacenándolas junto al enlace y el número de oferta nos permite seguirlas teniendo enlazadas a los anuncios pero sin que entorpezcan el EDA y Regresión que se aplicarán en el proyecto al dataset de ofertas."
   ]
  },
  {
   "cell_type": "code",
   "execution_count": 18,
   "metadata": {},
   "outputs": [],
   "source": [
    "fname=\"vehiculos_usados.csv\"\n",
    "fdescriptions=\"descripciones_vehiculos.csv\"\n",
    "\n",
    "if os.path.isfile(fname):\n",
    "    df=pd.read_csv(fname)\n",
    "else:\n",
    "    cols=['Fecha extrac', 'Enlace']\n",
    "    df=pd.DataFrame(columns=cols)\n",
    "\n",
    "if os.path.isfile(fdescriptions):\n",
    "    df_descriptions=pd.read_csv(fdescriptions)\n",
    "else:\n",
    "    cols=['Num oferta', 'Descripción']\n",
    "    df_descriptions=pd.DataFrame(columns=cols)"
   ]
  },
  {
   "cell_type": "code",
   "execution_count": 19,
   "metadata": {},
   "outputs": [
    {
     "data": {
      "text/plain": [
       "Unnamed: 0.11                1051\n",
       "Unnamed: 0.10                1021\n",
       "Unnamed: 0.9                  984\n",
       "Unnamed: 0.8                  908\n",
       "Unnamed: 0.7                  797\n",
       "Unnamed: 0.6                  689\n",
       "Unnamed: 0.5                  636\n",
       "Unnamed: 0.4                  523\n",
       "Unnamed: 0.3                  488\n",
       "Unnamed: 0.2                  391\n",
       "Unnamed: 0.1                  293\n",
       "Unnamed: 0                    263\n",
       "Fecha extrac                 1051\n",
       "Enlace                       1051\n",
       "Marca                        1051\n",
       "Modelo                       1049\n",
       "Precio                       1051\n",
       "Localización                 1051\n",
       "Potencia                     1051\n",
       "Tipo vendedor                1051\n",
       "Categoría                    1051\n",
       "Tipo de vehículo             1051\n",
       "puertas                      1051\n",
       "Versión del país             1051\n",
       "Núm. de oferta               1051\n",
       "Garantía                      965\n",
       "Kilometraje                  1051\n",
       "Año                          1051\n",
       "Tipo de cambio               1050\n",
       "Capacidad                     962\n",
       "Otras fuentes de energía       75\n",
       "Consumo de combustible\\n2     924\n",
       "Color exterior                950\n",
       "Color original                759\n",
       "Tracción                      805\n",
       "plazas                        825\n",
       "Número de marchas             826\n",
       "Número de cilindros           783\n",
       "Peso                          762\n",
       "Tipo de combustible           976\n",
       "Unnamed: 29                     0\n",
       "Tipo de pintura               237\n",
       "Emisión de CO₂\\n2              28\n",
       "Unnamed: 33                     0\n",
       "Unnamed: 35                     0\n",
       "Unnamed: 37                     0\n",
       "Unnamed: 39                     0\n",
       "Unnamed: 41                     0\n",
       "Unnamed: 43                     0\n",
       "Unnamed: 45                     0\n",
       "Unnamed: 47                     0\n",
       "Unnamed: 49                     0\n",
       "Unnamed: 51                     0\n",
       "Unnamed: 53                     0\n",
       "dtype: int64"
      ]
     },
     "execution_count": 19,
     "metadata": {},
     "output_type": "execute_result"
    }
   ],
   "source": [
    "df.count()"
   ]
  },
  {
   "cell_type": "markdown",
   "metadata": {},
   "source": [
    "Recorreremos los anuncios y aquellos que no figuren en el dataset los abriremos para poder obtener la información detallada e introducirla en el dataset. En este notebook lo limitaremos a 30 anuncios por el tiempo de ejecución. En el del proyecto irá todo en un .py en lugar de por celdas para poder ser ejecutado todo de manera automática y se sacarán 300 anuncios por ejecución."
   ]
  },
  {
   "cell_type": "code",
   "execution_count": 20,
   "metadata": {},
   "outputs": [],
   "source": [
    "anuncios=0\n",
    "while anuncios < 30:\n",
    "    nuevo=0\n",
    "    #Se espera a que la página esté cargada esperando a que cargue un elementeo en concreto. Si no carga lanza una excepción\n",
    "    try:\n",
    "        element_present = EC.presence_of_element_located((By.CLASS_NAME, \"SaveSearchButton_buttonChildren__o_r9y\"))\n",
    "        WebDriverWait(browser, 30).until(element_present)\n",
    "    except TimeoutException:\n",
    "        print (\"Timed out waiting for page to load\")\n",
    "        \n",
    "    listings=browser.find_elements(By.CLASS_NAME, \"ListItem_wrapper__J_a_C\")\n",
    "    for listing in listings:\n",
    "        link=listing.find_element(By.TAG_NAME, \"a\")\n",
    "        link_address=link.get_attribute(\"href\")\n",
    "        if link_address not in df['Enlace'].values:\n",
    "            #A veces petaba aquí porque link era none (por algún recuadro de publicidad, etc). Le hacemos que busque el siguiente anuncio\n",
    "            try:\n",
    "                link.click()\n",
    "            except:\n",
    "                continue\n",
    "            #Se espera a que la página esté cargada eligiendo un elemento por el cual esperar. Si no carga lanza una excepción\n",
    "            try:\n",
    "                element_present = EC.presence_of_element_located((By.ID, \"lead-form-lightbox-desktop-button\"))\n",
    "                WebDriverWait(browser, 30).until(element_present)\n",
    "            except TimeoutException:\n",
    "                print (\"Timed out waiting for page to load\")\n",
    "            \n",
    "            atributos=browser.find_elements(By.CLASS_NAME, \"VehicleOverview_itemText__V1yKT\")\n",
    "            #A veces no está dentro de un anuncio y los atributos petaban\n",
    "            try:\n",
    "                dicc_vehic={\n",
    "                    'Fecha extrac' : date.today(),\n",
    "                    'Enlace' : link_address,\n",
    "                    'Marca' : browser.find_element(By.CLASS_NAME, \"StageTitle_boldClassifiedInfo__L7JmO\").text,\n",
    "                    'Modelo' : browser.find_element(By.CLASS_NAME, \"StageTitle_model__pG_6i\").text,\n",
    "                    'Precio' : browser.find_element(By.CLASS_NAME, \"PriceInfo_price__JPzpT\").text,\n",
    "                    'Localización': browser.find_element(By.CLASS_NAME, \"LocationWithPin_locationItem__pHhCa\").get_attribute(\"href\"),\n",
    "                    'Potencia' : atributos[4].text,\n",
    "                    'Tipo vendedor' : atributos[5].text,    \n",
    "                }\n",
    "            except:\n",
    "                continue\n",
    "            datos_columnas=browser.find_elements(By.CLASS_NAME, \"DataGrid_defaultDtStyle__yzRR_\")\n",
    "            datos_valores=browser.find_elements(By.CLASS_NAME, \"DataGrid_defaultDdStyle__29SKf\")\n",
    "            for i,columna in enumerate(datos_columnas):\n",
    "                dicc_vehic[columna.text]=datos_valores[i].text\n",
    "            df_new=pd.DataFrame(dicc_vehic, index=[0])\n",
    "            df=pd.concat([df, df_new])\n",
    "            #Algunos anuncios daban error por no tener descripción, lo gestionamos\n",
    "            try:\n",
    "                description=browser.find_element(By.CLASS_NAME, \"SellerNotesSection_content__S5suY\").text\n",
    "            except:\n",
    "                description=\"\"\n",
    "            df_descriptions=pd.concat([df_descriptions, pd.DataFrame([{'Núm. de oferta': dicc_vehic['Núm. de oferta'], 'Enlace': link_address, 'Descripción' : description}])])\n",
    "            anuncios+=1\n",
    "            nuevo=1\n",
    "            #Se simula que un humano está leyendo el anuncio con un sleep random entre 5 y 10 segundos\n",
    "            sleep(random.randint(5, 10))\n",
    "            browser.back()\n",
    "            sleep(random.randint(5, 10))\n",
    "            #Al volver a la página anterior se han perdido algunas variables, así que se reinicia el bucle\n",
    "            break\n",
    "    #Si ha llegado al final de los listings sin añadir ninguno nuevo se cambia de página (para evitar que cambie de pag con el break de almacenar anuncio)\n",
    "    #Se espera a que cargue el link para hacer click para que no crashee\n",
    "    if not nuevo: \n",
    "        try:\n",
    "            element_present = EC.presence_of_element_located((By.CLASS_NAME, \"FilteredListPagination_button__41hHM\"))\n",
    "            WebDriverWait(browser, 30).until(element_present)\n",
    "            pag_siguiente=browser.find_elements(By.CLASS_NAME, \"FilteredListPagination_button__41hHM\")[-1]\n",
    "            pag_siguiente.click()\n",
    "            sleep(random.randint(5, 10))\n",
    "        except TimeoutException:\n",
    "            print (\"Timed out waiting for page to load\")\n",
    "            continue\n",
    "browser.quit()"
   ]
  },
  {
   "cell_type": "markdown",
   "metadata": {},
   "source": [
    "Con el count del dataframe, como teníamos el previo podemos ver si se ha añadido la cantidad correcta de anuncios."
   ]
  },
  {
   "cell_type": "code",
   "execution_count": 21,
   "metadata": {},
   "outputs": [
    {
     "data": {
      "text/plain": [
       "Unnamed: 0.11                1051\n",
       "Unnamed: 0.10                1021\n",
       "Unnamed: 0.9                  984\n",
       "Unnamed: 0.8                  908\n",
       "Unnamed: 0.7                  797\n",
       "Unnamed: 0.6                  689\n",
       "Unnamed: 0.5                  636\n",
       "Unnamed: 0.4                  523\n",
       "Unnamed: 0.3                  488\n",
       "Unnamed: 0.2                  391\n",
       "Unnamed: 0.1                  293\n",
       "Unnamed: 0                    263\n",
       "Fecha extrac                 1081\n",
       "Enlace                       1081\n",
       "Marca                        1081\n",
       "Modelo                       1079\n",
       "Precio                       1081\n",
       "Localización                 1081\n",
       "Potencia                     1081\n",
       "Tipo vendedor                1081\n",
       "Categoría                    1081\n",
       "Tipo de vehículo             1081\n",
       "puertas                      1081\n",
       "Versión del país             1081\n",
       "Núm. de oferta               1081\n",
       "Garantía                      988\n",
       "Kilometraje                  1081\n",
       "Año                          1081\n",
       "Tipo de cambio               1080\n",
       "Capacidad                     989\n",
       "Otras fuentes de energía       75\n",
       "Consumo de combustible\\n2     951\n",
       "Color exterior                979\n",
       "Color original                777\n",
       "Tracción                      832\n",
       "plazas                        852\n",
       "Número de marchas             853\n",
       "Número de cilindros           810\n",
       "Peso                          788\n",
       "Tipo de combustible          1006\n",
       "Unnamed: 29                     0\n",
       "Tipo de pintura               243\n",
       "Emisión de CO₂\\n2              28\n",
       "Unnamed: 33                     0\n",
       "Unnamed: 35                     0\n",
       "Unnamed: 37                     0\n",
       "Unnamed: 39                     0\n",
       "Unnamed: 41                     0\n",
       "Unnamed: 43                     0\n",
       "Unnamed: 45                     0\n",
       "Unnamed: 47                     0\n",
       "Unnamed: 49                     0\n",
       "Unnamed: 51                     0\n",
       "Unnamed: 53                     0\n",
       "                               26\n",
       "dtype: int64"
      ]
     },
     "execution_count": 21,
     "metadata": {},
     "output_type": "execute_result"
    }
   ],
   "source": [
    "df.count()"
   ]
  },
  {
   "cell_type": "code",
   "execution_count": 22,
   "metadata": {},
   "outputs": [
    {
     "data": {
      "text/plain": [
       "Unnamed: 0.11     1051\n",
       "Unnamed: 0.10     1021\n",
       "Unnamed: 0.9       984\n",
       "Unnamed: 0.8       908\n",
       "Unnamed: 0.7       797\n",
       "Unnamed: 0.6       689\n",
       "Unnamed: 0.5       636\n",
       "Unnamed: 0.4       523\n",
       "Unnamed: 0.3       488\n",
       "Unnamed: 0.2       391\n",
       "Unnamed: 0.1       293\n",
       "Unnamed: 0         263\n",
       "Num oferta           0\n",
       "Descripción       1077\n",
       "Núm. de oferta    1081\n",
       "Enlace            1081\n",
       "dtype: int64"
      ]
     },
     "execution_count": 22,
     "metadata": {},
     "output_type": "execute_result"
    }
   ],
   "source": [
    "df_descriptions.count()"
   ]
  },
  {
   "cell_type": "markdown",
   "metadata": {},
   "source": [
    "Guardamos los dataframes en archivos csv. Quedaría trabajo de limpieza de los datos, pero como el scrapeo está pensado para ser un proceso que se repita muchas veces, se volverían a generar \"datos sucios\". Así que la limpieza del mismo se realizará durante el proyecto, una vez hayan realizados todas las repeticiones de scrapeo necesarias."
   ]
  },
  {
   "cell_type": "code",
   "execution_count": 23,
   "metadata": {},
   "outputs": [],
   "source": [
    "df.to_csv(\"vehiculos_usados.csv\")\n",
    "df_descriptions.to_csv(\"descripciones_vehiculos.csv\")"
   ]
  }
 ],
 "metadata": {
  "kernelspec": {
   "display_name": "con-01",
   "language": "python",
   "name": "python3"
  },
  "language_info": {
   "codemirror_mode": {
    "name": "ipython",
    "version": 3
   },
   "file_extension": ".py",
   "mimetype": "text/x-python",
   "name": "python",
   "nbconvert_exporter": "python",
   "pygments_lexer": "ipython3",
   "version": "3.11.3"
  }
 },
 "nbformat": 4,
 "nbformat_minor": 2
}
